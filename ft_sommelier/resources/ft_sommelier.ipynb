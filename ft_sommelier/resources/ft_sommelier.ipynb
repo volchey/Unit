{
 "cells": [
  {
   "cell_type": "code",
   "execution_count": 5,
   "metadata": {},
   "outputs": [],
   "source": [
    "import os\n",
    "import math\n",
    "import random\n",
    "import pandas as pd\n",
    "import matplotlib.pyplot as plt\n",
    "import matplotlib.image as mpimg\n",
    "import matplotlib.animation as animation"
   ]
  },
  {
   "cell_type": "code",
   "execution_count": 6,
   "metadata": {},
   "outputs": [],
   "source": [
    "dataset_path = './winequality-red.csv'\n",
    "\n",
    "try:\n",
    "    wine_data = pd.read_csv(dataset_path, sep=';')\n",
    "except FileNotFoundError:\n",
    "    print('[-] Set `dataset_path` with correct value')"
   ]
  },
  {
   "cell_type": "markdown",
   "metadata": {},
   "source": [
    "----------------------------------\n",
    "# V.1 Exploring the green reds"
   ]
  },
  {
   "cell_type": "markdown",
   "metadata": {},
   "source": [
    "### a) Write a function that will plot a scatterplot matrix of your red wine data"
   ]
  },
  {
   "cell_type": "code",
   "execution_count": null,
   "metadata": {},
   "outputs": [],
   "source": [
    "def plot_scatter_matrix(wine_data, good_threshold, bad_threshold, save_plot=False):\n",
    "    \"\"\"\n",
    "    Plots a scatterplot matrix of data. Samples with quality over `good_threshold`\n",
    "    are plotted as one color and samples below `bad_threshold` as another.\n",
    "\n",
    "    :param pd.DataFrame wine_data:\n",
    "    :param int good_threshold:\n",
    "    :param int bad_threshold:\n",
    "\n",
    "    :returns: result matplotlib.pyplot.figure object\n",
    "    \"\"\"\n",
    "    num_samples, num_features = wine_data.shape\n",
    "\n",
    "    fig, axes = plt.subplots(nrows=num_features,\n",
    "                             ncols=num_features, figsize=(18,18))\n",
    "    fig.subplots_adjust(hspace=0, wspace=0)\n",
    "    \n",
    "    for ax in axes.flat:\n",
    "        ax.xaxis.set_visible(False)\n",
    "        ax.yaxis.set_visible(False)\n",
    "    \n",
    "    feature_names = wine_data.columns\n",
    "    for i, label in enumerate(feature_names):\n",
    "        axes[i, i].annotate(label, (0.5, 0.5), xycoords='axes fraction',\n",
    "                            ha='center', va='center')\n",
    "    \n",
    "    good_wines = wine_data[(wine_data['quality'] > good_threshold)]\n",
    "    bad_wines = wine_data[(wine_data['quality'] < bad_threshold)]\n",
    "    \n",
    "    for i in range(num_features):\n",
    "        for j in range(i + 1, num_features):\n",
    "            axes[i, j].scatter(good_wines.iloc[:, j], good_wines.iloc[:, i], c=['g'], marker='.')\n",
    "            axes[i, j].scatter(bad_wines.iloc[:, j], bad_wines.iloc[:, i], c=['r'], marker='.')\n",
    "            axes[j, i].scatter(good_wines.iloc[:, i], good_wines.iloc[:, j], c=['g'], marker='.')\n",
    "            axes[j, i].scatter(bad_wines.iloc[:, i], bad_wines.iloc[:, j], c=['r'], marker='.')\n",
    "\n",
    "    if save_plot:\n",
    "        plt.savefig('./scatterplot-matrix.png')\n",
    "    \n",
    "    return fig"
   ]
  },
  {
   "cell_type": "code",
   "execution_count": 12,
   "metadata": {
    "scrolled": false
   },
   "outputs": [
    {
     "ename": "NameError",
     "evalue": "name 'plot_scatter_matrix' is not defined",
     "output_type": "error",
     "traceback": [
      "\u001b[0;31m---------------------------------------------------------------------------\u001b[0m",
      "\u001b[0;31mNameError\u001b[0m                                 Traceback (most recent call last)",
      "\u001b[0;32m<ipython-input-12-858c7ecea9c3>\u001b[0m in \u001b[0;36m<module>\u001b[0;34m\u001b[0m\n\u001b[0;32m----> 1\u001b[0;31m \u001b[0mfig\u001b[0m \u001b[0;34m=\u001b[0m \u001b[0mplot_scatter_matrix\u001b[0m\u001b[0;34m(\u001b[0m\u001b[0mwine_data\u001b[0m\u001b[0;34m,\u001b[0m \u001b[0;36m7\u001b[0m\u001b[0;34m,\u001b[0m \u001b[0;36m4\u001b[0m\u001b[0;34m,\u001b[0m \u001b[0;32mTrue\u001b[0m\u001b[0;34m)\u001b[0m\u001b[0;34m\u001b[0m\u001b[0m\n\u001b[0m\u001b[1;32m      2\u001b[0m \u001b[0mplt\u001b[0m\u001b[0;34m.\u001b[0m\u001b[0mshow\u001b[0m\u001b[0;34m(\u001b[0m\u001b[0mfig\u001b[0m\u001b[0;34m)\u001b[0m\u001b[0;34m\u001b[0m\u001b[0m\n",
      "\u001b[0;31mNameError\u001b[0m: name 'plot_scatter_matrix' is not defined"
     ]
    }
   ],
   "source": [
    "fig = plot_scatter_matrix(wine_data, 7, 4, True)\n",
    "plt.show(fig)"
   ]
  },
  {
   "cell_type": "markdown",
   "metadata": {},
   "source": [
    "### b) Which factors do you think will be most useful to your perceptron for distinguishing high quality vs. low quality wines? Why?"
   ]
  },
  {
   "cell_type": "markdown",
   "metadata": {},
   "source": [
    "Perceptron, being a linear model, works best on linearly separable data.\n",
    "\n",
    "- **'alcohol'**, **'pH'**, **'sulphates'** look like good features for classification; \n",
    "- **'density'**, **'chlorides'** are bad features and most likely won't help;"
   ]
  },
  {
   "cell_type": "markdown",
   "metadata": {},
   "source": [
    "----------------------------------------------------------\n",
    "# V.2 Learning to perceptron"
   ]
  },
  {
   "cell_type": "markdown",
   "metadata": {},
   "source": [
    "### a) & b) Implementing Perceptron\n",
    "- Implement Rosenblatt perceptron with randomly initialized weights and bias, heaviside step activation function\n",
    "- Train your perceptron on 2 chemical factors (for example, alcohol and pH) and only use wines with a score of 8 or higher and wines with a score of 3 or lower"
   ]
  },
  {
   "cell_type": "code",
   "execution_count": 20,
   "metadata": {},
   "outputs": [
    {
     "name": "stdout",
     "output_type": "stream",
     "text": [
      "28 samples selected:\n",
      "\n",
      "    volatile acidity  alcohol  quality  goodness\n",
      "0              0.350    12.80        8      True\n",
      "1              0.320    12.60        8      True\n",
      "2              0.850    12.90        8      True\n",
      "3              0.310     9.80        8      True\n",
      "4              0.620    13.40        8      True\n",
      "5              0.580     9.00        3     False\n",
      "6              0.300    11.70        8      True\n",
      "7              0.350    11.00        8      True\n",
      "8              0.350    11.00        8      True\n",
      "9              0.610     8.40        3     False\n",
      "10             0.420    14.00        8      True\n",
      "11             1.185    10.70        3     False\n",
      "12             0.570    12.70        8      True\n",
      "13             0.440     9.90        3     False\n",
      "14             1.020    11.00        3     False\n",
      "15             0.400    12.50        8      True\n",
      "16             0.260    11.80        8      True\n",
      "17             0.540    13.10        8      True\n",
      "18             0.420    11.70        8      True\n",
      "19             0.490    14.00        8      True\n",
      "20             1.580    10.90        3     False\n",
      "21             0.815     9.80        3     False\n",
      "22             0.330    10.00        8      True\n",
      "23             0.380    11.30        8      True\n",
      "24             0.980     9.70        3     False\n",
      "25             0.875    10.20        3     False\n",
      "26             0.760     9.95        3     False\n",
      "27             0.360    11.40        8      True\n"
     ]
    }
   ],
   "source": [
    "# Take the wine as good, if it's quality > 5\n",
    "wine_data = wine_data.assign(goodness=pd.Series(wine_data['quality'] > 5))\n",
    "\n",
    "# selecting the subset from `wine_data`\n",
    "# only use wines with a score of 8 or higher and wines with a score of 3 or lower\n",
    "features = ['volatile acidity', 'alcohol', 'quality', 'goodness']\n",
    "selected_wine_data = wine_data[(wine_data['quality'] > 7) | (wine_data['quality'] < 4)][features]\n",
    "selected_wine_data = selected_wine_data.reset_index(drop=True)\n",
    "\n",
    "X = selected_wine_data.loc[:, ['volatile acidity', 'alcohol']]\n",
    "Y = selected_wine_data['goodness'].values\n",
    "\n",
    "print('{} samples selected:\\n'.format(selected_wine_data.shape[0]))\n",
    "print(selected_wine_data)"
   ]
  },
  {
   "cell_type": "code",
   "execution_count": null,
   "metadata": {},
   "outputs": [],
   "source": []
  },
  {
   "cell_type": "code",
   "execution_count": 8,
   "metadata": {},
   "outputs": [],
   "source": [
    "def ft_dot(a, b):\n",
    "    \"\"\"\n",
    "    Dot product of two sequences of numbers. Both arguments have to\n",
    "    be of equal length.\n",
    "    \n",
    "    :param np.array a:\n",
    "    :param np.array b:\n",
    "    \"\"\"\n",
    "\n",
    "    if len(a) != len(b):\n",
    "        raise ValueError('arguments have different length')\n",
    "\n",
    "    result = 0\n",
    "    for i in range(len(a)):\n",
    "        result += a[i] * b[i]\n",
    "    \n",
    "    return result\n",
    "\n",
    "\n",
    "def array_init(shape, mode='rand'):\n",
    "    \"\"\"\n",
    "    :param shape: an int or tuple, shape of the array to init\n",
    "    :param mode: 'rand' | 'zeros' | 'ones'\n",
    "    \"\"\"\n",
    "    \n",
    "    if mode not in ('rand', 'zeros', 'ones'):\n",
    "        raise ValueError('invalid mode')\n",
    "    \n",
    "    new_shape = shape\n",
    "    if isinstance(shape, int):\n",
    "        new_shape = (shape, 1)\n",
    "    \n",
    "    if isinstance(shape, tuple) and len(shape) == 1:\n",
    "        new_shape = (shape[0], 1)\n",
    "    \n",
    "    base_dict = {}\n",
    "    for i in range(new_shape[1]):\n",
    "        if mode == 'rand':\n",
    "            base_dict[i] = [0.0001 * random.uniform(-1, 1) for i in range(new_shape[0])]\n",
    "        elif mode == 'zeros':\n",
    "            base_dict[i] = new_shape[0] * [0.0]\n",
    "        elif mode == 'ones':\n",
    "            base_dict[i] = new_shape[0] * [1.0]\n",
    "    \n",
    "    df = pd.DataFrame.from_dict(base_dict)\n",
    "    \n",
    "    if isinstance(shape, int) or isinstance(shape, tuple) and len(shape) == 1:\n",
    "        return df.values.squeeze()\n",
    "    return df.values"
   ]
  },
  {
   "cell_type": "code",
   "execution_count": 12,
   "metadata": {},
   "outputs": [],
   "source": [
    "class Perceptron:\n",
    "    \n",
    "    def __init__(self, lr):\n",
    "        self.W = None\n",
    "        self.lr = lr\n",
    "        self.performance = list()\n",
    "    \n",
    "    def _net_input(self, X):\n",
    "        \"\"\"\n",
    "        Linear model output: y = W.T * X + b\n",
    "        \"\"\"\n",
    "        return ft_dot(self.W[1:], X) + self.W[0]\n",
    "    \n",
    "    def predict(self, X):\n",
    "        \"\"\"\n",
    "        Mapping the net input to binary class value using unit (heaviside) step function\n",
    "        \"\"\"\n",
    "        return 1 if self._net_input(X) > 0.0 else 0\n",
    "    \n",
    "    def evaluate_accuracy(self, X, y):\n",
    "        num_correct = 0\n",
    "\n",
    "        for xi, yi in zip(X, y):\n",
    "            num_correct += int(self.predict(xi) == int(yi))\n",
    "        \n",
    "        accuracy = num_correct / len(y)\n",
    "        print('[.] Model accuracy: {0:.3f}'.format(accuracy))\n",
    "        \n",
    "        return accuracy\n",
    "    \n",
    "    def _train_epoch(self, X, y, epoch, verbose):\n",
    "        epoch_errors = 0\n",
    "\n",
    "        for xi, yi in zip(X, y):\n",
    "            update = self.lr * (yi - self.predict(xi))\n",
    "            self.W[0] += update\n",
    "            self.W[1:] += update * xi\n",
    "            epoch_errors += int(update != 0.0)\n",
    "\n",
    "        if verbose and epoch % 10 == 0:\n",
    "            print('Epoch {}: {} errors'.format(epoch, epoch_errors))\n",
    "        self.performance.append((epoch, epoch_errors, self.W[1:], self.W[0]))\n",
    "        \n",
    "        return epoch_errors\n",
    "    \n",
    "    def train(self, X, y, epochs, verbose=False, seed=None):\n",
    "        if epochs < 0:\n",
    "            raise ValueError('invalid number of training epochs')\n",
    "\n",
    "        if seed:\n",
    "            random.seed(seed)\n",
    "\n",
    "        if self.W is None:\n",
    "            self.W = [0.0001 * random.uniform(-1, 1) for i in range(X.shape[1] + 1)]\n",
    "\n",
    "        epoch = 0\n",
    "        while True:\n",
    "            epoch_errors = self._train_epoch(X, y, epoch, verbose)\n",
    "            epoch += 1\n",
    "            if epochs != 0 and epoch == epochs:\n",
    "                break\n",
    "            elif epochs == 0 and epoch_errors == 0:\n",
    "                break\n",
    "        \n",
    "        return self.performance"
   ]
  },
  {
   "cell_type": "code",
   "execution_count": 21,
   "metadata": {
    "scrolled": true
   },
   "outputs": [
    {
     "name": "stdout",
     "output_type": "stream",
     "text": [
      "Epoch 0: 13 errors\n",
      "Epoch 10: 11 errors\n",
      "Epoch 20: 7 errors\n",
      "Epoch 30: 6 errors\n",
      "Epoch 40: 5 errors\n",
      "Epoch 50: 7 errors\n",
      "Epoch 60: 1 errors\n",
      "Epoch 70: 1 errors\n",
      "Epoch 80: 3 errors\n",
      "Epoch 90: 3 errors\n",
      "Epoch 100: 8 errors\n",
      "Epoch 110: 8 errors\n",
      "Epoch 120: 4 errors\n",
      "Epoch 130: 1 errors\n",
      "Epoch 140: 1 errors\n",
      "Epoch 150: 3 errors\n",
      "Epoch 160: 3 errors\n",
      "Epoch 170: 4 errors\n",
      "Epoch 180: 4 errors\n",
      "Epoch 190: 4 errors\n",
      "Epoch 200: 3 errors\n",
      "Epoch 210: 5 errors\n",
      "Epoch 220: 5 errors\n",
      "Epoch 230: 4 errors\n",
      "Epoch 240: 4 errors\n",
      "Epoch 250: 4 errors\n",
      "Epoch 260: 2 errors\n",
      "Epoch 270: 2 errors\n",
      "Epoch 280: 3 errors\n",
      "Epoch 290: 4 errors\n",
      "Epoch 300: 2 errors\n",
      "Epoch 310: 3 errors\n",
      "Epoch 320: 4 errors\n",
      "Epoch 330: 2 errors\n",
      "Epoch 340: 3 errors\n",
      "Epoch 350: 4 errors\n",
      "Epoch 360: 3 errors\n",
      "Epoch 370: 1 errors\n",
      "Epoch 380: 4 errors\n",
      "Epoch 390: 4 errors\n",
      "Epoch 400: 2 errors\n",
      "Epoch 410: 3 errors\n",
      "Epoch 420: 2 errors\n",
      "Epoch 430: 2 errors\n",
      "Epoch 440: 4 errors\n",
      "Epoch 450: 2 errors\n",
      "Epoch 460: 2 errors\n",
      "Epoch 470: 2 errors\n",
      "Epoch 480: 2 errors\n",
      "Epoch 490: 2 errors\n",
      "Epoch 500: 1 errors\n",
      "Epoch 510: 2 errors\n",
      "Epoch 520: 2 errors\n",
      "Epoch 530: 2 errors\n",
      "Epoch 540: 2 errors\n",
      "Epoch 550: 2 errors\n",
      "Epoch 560: 1 errors\n",
      "Epoch 570: 2 errors\n",
      "Epoch 580: 2 errors\n",
      "Epoch 590: 2 errors\n",
      "Epoch 600: 2 errors\n",
      "Epoch 610: 2 errors\n",
      "Epoch 620: 4 errors\n",
      "Epoch 630: 2 errors\n",
      "Epoch 640: 2 errors\n",
      "Epoch 650: 1 errors\n",
      "Epoch 660: 2 errors\n",
      "Epoch 670: 2 errors\n",
      "Epoch 680: 2 errors\n",
      "Epoch 690: 2 errors\n",
      "Epoch 700: 2 errors\n",
      "Epoch 710: 2 errors\n",
      "Epoch 720: 2 errors\n",
      "Epoch 730: 2 errors\n",
      "Epoch 740: 2 errors\n",
      "Epoch 750: 2 errors\n",
      "Epoch 760: 2 errors\n",
      "Epoch 770: 2 errors\n",
      "Epoch 780: 2 errors\n",
      "Epoch 790: 2 errors\n",
      "Epoch 800: 2 errors\n",
      "Epoch 810: 2 errors\n",
      "Epoch 820: 2 errors\n",
      "Epoch 830: 2 errors\n",
      "Epoch 840: 2 errors\n",
      "Epoch 850: 4 errors\n",
      "Epoch 860: 2 errors\n",
      "Epoch 870: 4 errors\n",
      "Epoch 880: 2 errors\n",
      "Epoch 890: 1 errors\n",
      "Epoch 900: 2 errors\n",
      "Epoch 910: 2 errors\n",
      "Epoch 920: 2 errors\n",
      "Epoch 930: 2 errors\n",
      "Epoch 940: 2 errors\n",
      "Epoch 950: 2 errors\n",
      "Epoch 960: 2 errors\n",
      "Epoch 970: 2 errors\n",
      "Epoch 980: 2 errors\n",
      "Epoch 990: 2 errors\n",
      "Epoch 1000: 2 errors\n",
      "Epoch 1010: 2 errors\n",
      "Epoch 1020: 2 errors\n",
      "Epoch 1030: 2 errors\n",
      "Epoch 1040: 2 errors\n",
      "Epoch 1050: 2 errors\n",
      "Epoch 1060: 2 errors\n",
      "Epoch 1070: 2 errors\n",
      "Epoch 1080: 2 errors\n",
      "Epoch 1090: 2 errors\n",
      "Epoch 1100: 2 errors\n",
      "Epoch 1110: 2 errors\n",
      "Epoch 1120: 2 errors\n",
      "Epoch 1130: 2 errors\n",
      "Epoch 1140: 4 errors\n",
      "Epoch 1150: 2 errors\n",
      "Epoch 1160: 1 errors\n",
      "Epoch 1170: 2 errors\n",
      "Epoch 1180: 1 errors\n",
      "Epoch 1190: 2 errors\n",
      "Epoch 1200: 2 errors\n",
      "Epoch 1210: 2 errors\n",
      "Epoch 1220: 2 errors\n",
      "Epoch 1230: 2 errors\n",
      "Epoch 1240: 2 errors\n",
      "Epoch 1250: 2 errors\n",
      "Epoch 1260: 2 errors\n",
      "Epoch 1270: 2 errors\n",
      "Epoch 1280: 2 errors\n",
      "Epoch 1290: 2 errors\n",
      "Epoch 1300: 2 errors\n",
      "Epoch 1310: 2 errors\n",
      "Epoch 1320: 2 errors\n",
      "Epoch 1330: 2 errors\n",
      "Epoch 1340: 2 errors\n",
      "Epoch 1350: 2 errors\n",
      "Epoch 1360: 2 errors\n",
      "Epoch 1370: 2 errors\n",
      "Epoch 1380: 2 errors\n",
      "Epoch 1390: 2 errors\n",
      "Epoch 1400: 2 errors\n",
      "Epoch 1410: 2 errors\n",
      "Epoch 1420: 1 errors\n",
      "Epoch 1430: 2 errors\n",
      "Epoch 1440: 2 errors\n",
      "Epoch 1450: 2 errors\n",
      "Epoch 1460: 2 errors\n",
      "Epoch 1470: 1 errors\n",
      "Epoch 1480: 2 errors\n",
      "Epoch 1490: 2 errors\n",
      "Epoch 1500: 2 errors\n",
      "Epoch 1510: 2 errors\n",
      "Epoch 1520: 2 errors\n",
      "Epoch 1530: 2 errors\n",
      "Epoch 1540: 4 errors\n",
      "Epoch 1550: 2 errors\n",
      "Epoch 1560: 2 errors\n",
      "Epoch 1570: 2 errors\n",
      "Epoch 1580: 2 errors\n",
      "Epoch 1590: 2 errors\n",
      "Epoch 1600: 2 errors\n",
      "Epoch 1610: 2 errors\n",
      "Epoch 1620: 2 errors\n",
      "Epoch 1630: 2 errors\n",
      "Epoch 1640: 1 errors\n",
      "Epoch 1650: 2 errors\n",
      "Epoch 1660: 2 errors\n",
      "Epoch 1670: 2 errors\n",
      "Epoch 1680: 2 errors\n",
      "Epoch 1690: 2 errors\n",
      "Epoch 1700: 2 errors\n",
      "Epoch 1710: 4 errors\n",
      "Epoch 1720: 2 errors\n",
      "Epoch 1730: 2 errors\n",
      "Epoch 1740: 2 errors\n",
      "Epoch 1750: 2 errors\n",
      "Epoch 1760: 2 errors\n",
      "Epoch 1770: 2 errors\n",
      "Epoch 1780: 2 errors\n",
      "Epoch 1790: 2 errors\n",
      "Epoch 1800: 2 errors\n",
      "Epoch 1810: 2 errors\n",
      "Epoch 1820: 2 errors\n",
      "Epoch 1830: 2 errors\n",
      "Epoch 1840: 2 errors\n",
      "Epoch 1850: 2 errors\n",
      "Epoch 1860: 2 errors\n",
      "Epoch 1870: 2 errors\n",
      "Epoch 1880: 2 errors\n",
      "Epoch 1890: 2 errors\n",
      "Epoch 1900: 2 errors\n",
      "Epoch 1910: 2 errors\n",
      "Epoch 1920: 2 errors\n",
      "Epoch 1930: 2 errors\n",
      "Epoch 1940: 2 errors\n",
      "Epoch 1950: 2 errors\n",
      "Epoch 1960: 2 errors\n",
      "Epoch 1970: 2 errors\n",
      "Epoch 1980: 2 errors\n",
      "Epoch 1990: 2 errors\n",
      "Epoch 2000: 2 errors\n",
      "Epoch 2010: 2 errors\n",
      "Epoch 2020: 2 errors\n",
      "Epoch 2030: 2 errors\n",
      "Epoch 2040: 2 errors\n",
      "Epoch 2050: 2 errors\n",
      "Epoch 2060: 2 errors\n",
      "Epoch 2070: 2 errors\n",
      "Epoch 2080: 2 errors\n",
      "Epoch 2090: 2 errors\n",
      "Epoch 2100: 2 errors\n",
      "Epoch 2110: 2 errors\n",
      "Epoch 2120: 2 errors\n",
      "Epoch 2130: 2 errors\n",
      "Epoch 2140: 2 errors\n",
      "Epoch 2150: 2 errors\n",
      "Epoch 2160: 2 errors\n",
      "Epoch 2170: 4 errors\n",
      "Epoch 2180: 2 errors\n",
      "Epoch 2190: 2 errors\n",
      "Epoch 2200: 2 errors\n",
      "Epoch 2210: 2 errors\n",
      "Epoch 2220: 2 errors\n",
      "Epoch 2230: 2 errors\n",
      "Epoch 2240: 2 errors\n",
      "Epoch 2250: 2 errors\n",
      "Epoch 2260: 2 errors\n",
      "Epoch 2270: 1 errors\n",
      "Epoch 2280: 2 errors\n",
      "Epoch 2290: 2 errors\n",
      "Epoch 2300: 2 errors\n",
      "Epoch 2310: 2 errors\n",
      "Epoch 2320: 2 errors\n",
      "Epoch 2330: 4 errors\n",
      "Epoch 2340: 2 errors\n",
      "Epoch 2350: 1 errors\n",
      "Epoch 2360: 2 errors\n",
      "Epoch 2370: 2 errors\n",
      "Epoch 2380: 2 errors\n",
      "Epoch 2390: 2 errors\n",
      "Epoch 2400: 2 errors\n",
      "Epoch 2410: 4 errors\n",
      "Epoch 2420: 2 errors\n",
      "Epoch 2430: 2 errors\n",
      "Epoch 2440: 2 errors\n",
      "Epoch 2450: 2 errors\n",
      "Epoch 2460: 2 errors\n",
      "Epoch 2470: 2 errors\n",
      "Epoch 2480: 2 errors\n",
      "Epoch 2490: 2 errors\n",
      "Epoch 2500: 2 errors\n",
      "Epoch 2510: 1 errors\n",
      "Epoch 2520: 2 errors\n",
      "Epoch 2530: 2 errors\n",
      "Epoch 2540: 1 errors\n",
      "Epoch 2550: 2 errors\n",
      "Epoch 2560: 2 errors\n",
      "Epoch 2570: 2 errors\n",
      "Epoch 2580: 2 errors\n",
      "Epoch 2590: 2 errors\n",
      "Epoch 2600: 2 errors\n",
      "Epoch 2610: 2 errors\n",
      "Epoch 2620: 2 errors\n",
      "Epoch 2630: 2 errors\n",
      "Epoch 2640: 2 errors\n",
      "Epoch 2650: 2 errors\n",
      "Epoch 2660: 2 errors\n",
      "Epoch 2670: 1 errors\n",
      "Epoch 2680: 2 errors\n",
      "Epoch 2690: 2 errors\n",
      "Epoch 2700: 2 errors\n",
      "Epoch 2710: 2 errors\n",
      "Epoch 2720: 2 errors\n",
      "Epoch 2730: 4 errors\n",
      "Epoch 2740: 2 errors\n",
      "Epoch 2750: 2 errors\n",
      "Epoch 2760: 2 errors\n",
      "Epoch 2770: 2 errors\n",
      "Epoch 2780: 2 errors\n",
      "Epoch 2790: 2 errors\n",
      "Epoch 2800: 2 errors\n",
      "Epoch 2810: 2 errors\n",
      "Epoch 2820: 2 errors\n",
      "Epoch 2830: 2 errors\n",
      "Epoch 2840: 2 errors\n",
      "Epoch 2850: 2 errors\n",
      "Epoch 2860: 2 errors\n",
      "Epoch 2870: 2 errors\n",
      "Epoch 2880: 1 errors\n",
      "Epoch 2890: 2 errors\n",
      "Epoch 2900: 2 errors\n",
      "Epoch 2910: 1 errors\n",
      "Epoch 2920: 2 errors\n",
      "Epoch 2930: 2 errors\n",
      "Epoch 2940: 2 errors\n",
      "Epoch 2950: 2 errors\n",
      "Epoch 2960: 2 errors\n",
      "Epoch 2970: 1 errors\n",
      "Epoch 2980: 2 errors\n",
      "Epoch 2990: 2 errors\n",
      "Epoch 3000: 2 errors\n",
      "Epoch 3010: 2 errors\n",
      "Epoch 3020: 2 errors\n",
      "Epoch 3030: 2 errors\n",
      "Epoch 3040: 2 errors\n",
      "Epoch 3050: 2 errors\n",
      "Epoch 3060: 2 errors\n",
      "Epoch 3070: 1 errors\n",
      "Epoch 3080: 2 errors\n",
      "Epoch 3090: 2 errors\n",
      "Epoch 3100: 2 errors\n",
      "Epoch 3110: 2 errors\n",
      "Epoch 3120: 2 errors\n",
      "Epoch 3130: 1 errors\n",
      "Epoch 3140: 2 errors\n",
      "Epoch 3150: 2 errors\n",
      "Epoch 3160: 2 errors\n",
      "Epoch 3170: 2 errors\n",
      "Epoch 3180: 2 errors\n",
      "Epoch 3190: 2 errors\n",
      "Epoch 3200: 2 errors\n",
      "Epoch 3210: 2 errors\n",
      "Epoch 3220: 2 errors\n",
      "Epoch 3230: 2 errors\n",
      "Epoch 3240: 2 errors\n",
      "Epoch 3250: 2 errors\n",
      "Epoch 3260: 2 errors\n",
      "Epoch 3270: 2 errors\n",
      "Epoch 3280: 2 errors\n",
      "Epoch 3290: 2 errors\n",
      "Epoch 3300: 4 errors\n",
      "Epoch 3310: 2 errors\n",
      "Epoch 3320: 2 errors\n",
      "Epoch 3330: 2 errors\n",
      "Epoch 3340: 2 errors\n",
      "Epoch 3350: 2 errors\n",
      "Epoch 3360: 2 errors\n",
      "Epoch 3370: 2 errors\n",
      "Epoch 3380: 2 errors\n",
      "Epoch 3390: 2 errors\n",
      "Epoch 3400: 2 errors\n",
      "Epoch 3410: 2 errors\n",
      "Epoch 3420: 2 errors\n",
      "Epoch 3430: 2 errors\n",
      "Epoch 3440: 2 errors\n",
      "Epoch 3450: 2 errors\n",
      "Epoch 3460: 4 errors\n",
      "Epoch 3470: 2 errors\n",
      "Epoch 3480: 2 errors\n",
      "Epoch 3490: 2 errors\n",
      "Epoch 3500: 2 errors\n",
      "Epoch 3510: 2 errors\n",
      "Epoch 3520: 4 errors\n",
      "Epoch 3530: 2 errors\n",
      "Epoch 3540: 2 errors\n",
      "Epoch 3550: 2 errors\n",
      "Epoch 3560: 2 errors\n",
      "Epoch 3570: 2 errors\n",
      "Epoch 3580: 2 errors\n",
      "Epoch 3590: 2 errors\n",
      "Epoch 3600: 2 errors\n",
      "Epoch 3610: 2 errors\n",
      "Epoch 3620: 4 errors\n",
      "Epoch 3630: 2 errors\n",
      "Epoch 3640: 2 errors\n",
      "Epoch 3650: 2 errors\n",
      "Epoch 3660: 2 errors\n",
      "Epoch 3670: 2 errors\n",
      "Epoch 3680: 3 errors\n",
      "Epoch 3690: 2 errors\n",
      "Epoch 3700: 2 errors\n",
      "Epoch 3710: 2 errors\n",
      "Epoch 3720: 2 errors\n",
      "Epoch 3730: 2 errors\n",
      "Epoch 3740: 2 errors\n",
      "Epoch 3750: 2 errors\n",
      "Epoch 3760: 2 errors\n",
      "Epoch 3770: 2 errors\n",
      "Epoch 3780: 2 errors\n",
      "Epoch 3790: 2 errors\n",
      "Epoch 3800: 2 errors\n",
      "Epoch 3810: 2 errors\n",
      "Epoch 3820: 2 errors\n",
      "Epoch 3830: 2 errors\n",
      "Epoch 3840: 2 errors\n",
      "Epoch 3850: 2 errors\n",
      "Epoch 3860: 2 errors\n",
      "Epoch 3870: 2 errors\n",
      "Epoch 3880: 2 errors\n",
      "Epoch 3890: 2 errors\n",
      "Epoch 3900: 2 errors\n",
      "Epoch 3910: 2 errors\n",
      "Epoch 3920: 2 errors\n",
      "Epoch 3930: 2 errors\n",
      "Epoch 3940: 2 errors\n",
      "Epoch 3950: 2 errors\n",
      "Epoch 3960: 1 errors\n",
      "Epoch 3970: 2 errors\n",
      "Epoch 3980: 2 errors\n",
      "Epoch 3990: 2 errors\n",
      "Epoch 4000: 2 errors\n",
      "Epoch 4010: 2 errors\n",
      "Epoch 4020: 2 errors\n",
      "Epoch 4030: 2 errors\n",
      "Epoch 4040: 2 errors\n",
      "Epoch 4050: 2 errors\n",
      "Epoch 4060: 2 errors\n",
      "Epoch 4070: 2 errors\n",
      "Epoch 4080: 2 errors\n",
      "Epoch 4090: 2 errors\n",
      "Epoch 4100: 2 errors\n",
      "Epoch 4110: 2 errors\n",
      "Epoch 4120: 2 errors\n",
      "Epoch 4130: 2 errors\n",
      "Epoch 4140: 2 errors\n",
      "Epoch 4150: 2 errors\n",
      "Epoch 4160: 1 errors\n",
      "Epoch 4170: 2 errors\n",
      "Epoch 4180: 2 errors\n",
      "Epoch 4190: 2 errors\n",
      "Epoch 4200: 2 errors\n",
      "Epoch 4210: 2 errors\n",
      "Epoch 4220: 2 errors\n"
     ]
    },
    {
     "name": "stdout",
     "output_type": "stream",
     "text": [
      "Epoch 4230: 2 errors\n",
      "Epoch 4240: 2 errors\n",
      "Epoch 4250: 2 errors\n",
      "Epoch 4260: 2 errors\n",
      "Epoch 4270: 2 errors\n",
      "Epoch 4280: 2 errors\n",
      "Epoch 4290: 2 errors\n",
      "Epoch 4300: 2 errors\n",
      "Epoch 4310: 2 errors\n",
      "Epoch 4320: 2 errors\n",
      "Epoch 4330: 2 errors\n",
      "Epoch 4340: 2 errors\n",
      "Epoch 4350: 2 errors\n",
      "Epoch 4360: 2 errors\n",
      "Epoch 4370: 2 errors\n",
      "Epoch 4380: 2 errors\n",
      "Epoch 4390: 2 errors\n",
      "Epoch 4400: 2 errors\n",
      "Epoch 4410: 2 errors\n",
      "Epoch 4420: 2 errors\n",
      "Epoch 4430: 2 errors\n",
      "Epoch 4440: 2 errors\n",
      "Epoch 4450: 2 errors\n",
      "Epoch 4460: 1 errors\n",
      "Epoch 4470: 2 errors\n",
      "Epoch 4480: 2 errors\n",
      "Epoch 4490: 2 errors\n",
      "Epoch 4500: 2 errors\n",
      "Epoch 4510: 2 errors\n",
      "Epoch 4520: 2 errors\n",
      "Epoch 4530: 2 errors\n"
     ]
    }
   ],
   "source": [
    "p = Perceptron(lr=0.005)\n",
    "\n",
    "train_stats = p.train(X.values, Y, 0, verbose=True, seed=1699)"
   ]
  },
  {
   "cell_type": "markdown",
   "metadata": {},
   "source": [
    "### c) Training procedure visualization"
   ]
  },
  {
   "cell_type": "code",
   "execution_count": 17,
   "metadata": {},
   "outputs": [],
   "source": [
    "def draw_num_errors(ax, performance, epoch):\n",
    "    epochs = [elem[0] for elem in performance[:epoch + 1]]\n",
    "    epoch_errors = [elem[1] for elem in performance[:epoch + 1]]\n",
    "\n",
    "    ax.plot(epochs, epoch_errors)\n",
    "    ax.set_xlim([0, len(performance)])\n",
    "    ax.set_title('Errors as a function of epochs')\n",
    "    ax.set_xlabel('epoch')\n",
    "    ax.set_ylabel('classification errors')\n",
    "\n",
    "\n",
    "def draw_decision_boundary(ax, performance, epoch, wine_data, features):\n",
    "    x_min = wine_data.loc[:, features[0]].min() - 0.15\n",
    "    x_max = wine_data.loc[:, features[0]].max() + 0.15\n",
    "    y_min = wine_data.loc[:, features[1]].min() - 0.15\n",
    "    y_max = wine_data.loc[:, features[1]].max() + 0.15\n",
    "    \n",
    "    ax.set_title('Decision boundary at epoch {}'.format(epoch))\n",
    "    ax.set_xlabel(features[0])\n",
    "    ax.set_xlim([x_min, x_max])\n",
    "    ax.set_ylabel(features[1])\n",
    "    ax.set_ylim([y_min, y_max])\n",
    "    \n",
    "    w2, w1 = performance[epoch][2]\n",
    "    b = performance[epoch][3]\n",
    "    slope = -w1/w2\n",
    "    intercept = -b/w2\n",
    "    x_coords = range(int(x_min) - 1, int(x_max) + 2)\n",
    "    y_coords = slope * x_coords + intercept\n",
    "\n",
    "    ax.plot(x_coords, y_coords, 'b--', label='Decision boundary')\n",
    "    ax.fill_between(x_coords, y_coords, y_min, color='#99ff99')\n",
    "    ax.fill_between(x_coords, y_coords, y_max, color='#ff9999')\n",
    "\n",
    "\n",
    "def draw_scatter(ax, wine_data, features, good_thresh, bad_thresh):\n",
    "    good_wines = wine_data[(wine_data['quality'] > good_thresh)]\n",
    "    bad_wines = wine_data[(wine_data['quality'] < bad_thresh)]\n",
    "\n",
    "    ax.scatter(good_wines.loc[:, features[0]], good_wines.loc[:, features[1]],\n",
    "                    c=['g'], label='good wines (> {} score)'.format(good_thresh))\n",
    "    ax.scatter(bad_wines.loc[:, features[0]], bad_wines.loc[:, features[1]],\n",
    "                    c=['r'], label='bad wines (< {} score)'.format(bad_thresh))\n",
    "    ax.legend(bbox_to_anchor=(1.05, 1), loc=2)\n",
    "\n",
    "    \n",
    "def plot_performance(performance, wine_data, features, good_thresh, bad_thresh,\n",
    "                     epoch=-1, save_plot=False, save_name='./train_stats.png'):\n",
    "    \"\"\"\n",
    "    Plot the performance of perceptron or adaline.\n",
    "    This function will produce a two plot figure:\n",
    "    1) Number of classification errors as a function of epochs\n",
    "    2) Decision boundary for two factors\n",
    "    \"\"\"\n",
    "    fig, axes = plt.subplots(nrows=1, ncols=2, figsize=(15,5))\n",
    "    \n",
    "    if epoch > len(performance) - 1:\n",
    "        raise ValueError('number of epochs should be less than {}'.format(len(performance)))\n",
    "    \n",
    "    if len(features) != 2:\n",
    "        raise ValueError('number of features should be 2')\n",
    "    \n",
    "    if epoch == -1:\n",
    "        epoch = len(performance) - 1\n",
    "\n",
    "    draw_num_errors(axes[0], performance, epoch)    \n",
    "    draw_decision_boundary(axes[1], performance, epoch, wine_data, features)\n",
    "    draw_scatter(axes[1], wine_data, features, good_thresh, bad_thresh)\n",
    "    \n",
    "    if save_plot:\n",
    "        plt.savefig(save_name)\n",
    "    \n",
    "    return fig"
   ]
  },
  {
   "cell_type": "markdown",
   "metadata": {},
   "source": [
    "---\n",
    "# VI.2 Do perceptrons dream of electric sheep?"
   ]
  },
  {
   "cell_type": "code",
   "execution_count": 18,
   "metadata": {},
   "outputs": [],
   "source": [
    "def save_animation(performance, data, features, good_thresh, bad_thresh,\n",
    "                   num_frames=-1, name='performance_animation.html'):\n",
    "    if len(features) != 2:\n",
    "        raise ValueError('number of features should be 2')\n",
    "    \n",
    "    if num_frames > len(performance) - 1:\n",
    "            raise ValueError('num_frames should be less than {}'.format(len(performance)))\n",
    "    \n",
    "    if num_frames == -1:\n",
    "        num_frames = len(performance) - 1\n",
    "\n",
    "    fig = plt.figure(figsize=(15,5), dpi=150)\n",
    "    ax = plt.gca()\n",
    "    ax.xaxis.set_visible(False)\n",
    "    ax.yaxis.set_visible(False)\n",
    "\n",
    "    def init():\n",
    "        imobj.set_data(array_init((360, 1000), mode='zeros'))\n",
    "\n",
    "        return imobj,\n",
    "\n",
    "    def animate(i, performance, data, features, good_thresh, bad_thresh):\n",
    "        fname = './train_stats_{}.png'.format(i)\n",
    "        plot_performance(performance, data, features, good_thresh, bad_thresh,\n",
    "                                   epoch=i, save_plot=True, save_name=fname)\n",
    "        img = mpimg.imread(fname)[-1::-1]\n",
    "        imobj.set_data(img)\n",
    "        os.remove(fname)\n",
    "\n",
    "        return imobj,\n",
    "\n",
    "    imobj = ax.imshow(array_init((360, 1000), mode='zeros'), interpolation='bilinear',\n",
    "                      origin='lower', alpha=1.0, zorder=1, aspect=1)\n",
    "\n",
    "    anim = animation.FuncAnimation(fig, animate, init_func=init,\n",
    "                                   fargs=(performance, data, features, good_thresh, bad_thresh),\n",
    "                                   repeat=False, frames=range(num_frames),\n",
    "                                   interval=120, blit=True)\n",
    "    anim.save(name)\n",
    "    print('[+] Animation saved as {}'.format(name))"
   ]
  },
  {
   "cell_type": "code",
   "execution_count": 22,
   "metadata": {
    "scrolled": true
   },
   "outputs": [
    {
     "name": "stderr",
     "output_type": "stream",
     "text": [
      "MovieWriter stderr:\n",
      "[NULL @ 0x55e6014fa900] Unable to find a suitable output format for 'performance_animation.html'\n",
      "performance_animation.html: Invalid argument\n",
      "\n"
     ]
    },
    {
     "ename": "CalledProcessError",
     "evalue": "Command '['ffmpeg', '-f', 'rawvideo', '-vcodec', 'rawvideo', '-s', '2250x750', '-pix_fmt', 'rgba', '-r', '8.333333333333334', '-loglevel', 'error', '-i', 'pipe:', '-vcodec', 'h264', '-pix_fmt', 'yuv420p', '-y', 'performance_animation.html']' returned non-zero exit status 1.",
     "output_type": "error",
     "traceback": [
      "\u001b[0;31m---------------------------------------------------------------------------\u001b[0m",
      "\u001b[0;31mBrokenPipeError\u001b[0m                           Traceback (most recent call last)",
      "\u001b[0;32m/opt/conda/lib/python3.6/site-packages/matplotlib/animation.py\u001b[0m in \u001b[0;36msaving\u001b[0;34m(self, fig, outfile, dpi, *args, **kwargs)\u001b[0m\n\u001b[1;32m    229\u001b[0m         \u001b[0;32mtry\u001b[0m\u001b[0;34m:\u001b[0m\u001b[0;34m\u001b[0m\u001b[0m\n\u001b[0;32m--> 230\u001b[0;31m             \u001b[0;32myield\u001b[0m \u001b[0mself\u001b[0m\u001b[0;34m\u001b[0m\u001b[0m\n\u001b[0m\u001b[1;32m    231\u001b[0m         \u001b[0;32mfinally\u001b[0m\u001b[0;34m:\u001b[0m\u001b[0;34m\u001b[0m\u001b[0m\n",
      "\u001b[0;32m/opt/conda/lib/python3.6/site-packages/matplotlib/animation.py\u001b[0m in \u001b[0;36msave\u001b[0;34m(self, filename, writer, fps, dpi, codec, bitrate, extra_args, metadata, extra_anim, savefig_kwargs, progress_callback)\u001b[0m\n\u001b[1;32m   1155\u001b[0m                             \u001b[0mframe_number\u001b[0m \u001b[0;34m+=\u001b[0m \u001b[0;36m1\u001b[0m\u001b[0;34m\u001b[0m\u001b[0m\n\u001b[0;32m-> 1156\u001b[0;31m                     \u001b[0mwriter\u001b[0m\u001b[0;34m.\u001b[0m\u001b[0mgrab_frame\u001b[0m\u001b[0;34m(\u001b[0m\u001b[0;34m**\u001b[0m\u001b[0msavefig_kwargs\u001b[0m\u001b[0;34m)\u001b[0m\u001b[0;34m\u001b[0m\u001b[0m\n\u001b[0m\u001b[1;32m   1157\u001b[0m \u001b[0;34m\u001b[0m\u001b[0m\n",
      "\u001b[0;32m/opt/conda/lib/python3.6/site-packages/matplotlib/animation.py\u001b[0m in \u001b[0;36mgrab_frame\u001b[0;34m(self, **savefig_kwargs)\u001b[0m\n\u001b[1;32m    383\u001b[0m         self.fig.savefig(self._frame_sink(), format=self.frame_format,\n\u001b[0;32m--> 384\u001b[0;31m                          dpi=self.dpi, **savefig_kwargs)\n\u001b[0m\u001b[1;32m    385\u001b[0m \u001b[0;34m\u001b[0m\u001b[0m\n",
      "\u001b[0;32m/opt/conda/lib/python3.6/site-packages/matplotlib/figure.py\u001b[0m in \u001b[0;36msavefig\u001b[0;34m(self, fname, transparent, **kwargs)\u001b[0m\n\u001b[1;32m   2179\u001b[0m \u001b[0;34m\u001b[0m\u001b[0m\n\u001b[0;32m-> 2180\u001b[0;31m         \u001b[0mself\u001b[0m\u001b[0;34m.\u001b[0m\u001b[0mcanvas\u001b[0m\u001b[0;34m.\u001b[0m\u001b[0mprint_figure\u001b[0m\u001b[0;34m(\u001b[0m\u001b[0mfname\u001b[0m\u001b[0;34m,\u001b[0m \u001b[0;34m**\u001b[0m\u001b[0mkwargs\u001b[0m\u001b[0;34m)\u001b[0m\u001b[0;34m\u001b[0m\u001b[0m\n\u001b[0m\u001b[1;32m   2181\u001b[0m \u001b[0;34m\u001b[0m\u001b[0m\n",
      "\u001b[0;32m/opt/conda/lib/python3.6/site-packages/matplotlib/backend_bases.py\u001b[0m in \u001b[0;36mprint_figure\u001b[0;34m(self, filename, dpi, facecolor, edgecolor, orientation, format, bbox_inches, **kwargs)\u001b[0m\n\u001b[1;32m   2081\u001b[0m                     \u001b[0mbbox_inches_restore\u001b[0m\u001b[0;34m=\u001b[0m\u001b[0m_bbox_inches_restore\u001b[0m\u001b[0;34m,\u001b[0m\u001b[0;34m\u001b[0m\u001b[0m\n\u001b[0;32m-> 2082\u001b[0;31m                     **kwargs)\n\u001b[0m\u001b[1;32m   2083\u001b[0m             \u001b[0;32mfinally\u001b[0m\u001b[0;34m:\u001b[0m\u001b[0;34m\u001b[0m\u001b[0m\n",
      "\u001b[0;32m/opt/conda/lib/python3.6/site-packages/matplotlib/backends/backend_agg.py\u001b[0m in \u001b[0;36mprint_raw\u001b[0;34m(self, filename_or_obj, *args, **kwargs)\u001b[0m\n\u001b[1;32m    445\u001b[0m                 \u001b[0mcbook\u001b[0m\u001b[0;34m.\u001b[0m\u001b[0mopen_file_cm\u001b[0m\u001b[0;34m(\u001b[0m\u001b[0mfilename_or_obj\u001b[0m\u001b[0;34m,\u001b[0m \u001b[0;34m\"wb\"\u001b[0m\u001b[0;34m)\u001b[0m \u001b[0;32mas\u001b[0m \u001b[0mfh\u001b[0m\u001b[0;34m:\u001b[0m\u001b[0;34m\u001b[0m\u001b[0m\n\u001b[0;32m--> 446\u001b[0;31m             \u001b[0mfh\u001b[0m\u001b[0;34m.\u001b[0m\u001b[0mwrite\u001b[0m\u001b[0;34m(\u001b[0m\u001b[0mrenderer\u001b[0m\u001b[0;34m.\u001b[0m\u001b[0m_renderer\u001b[0m\u001b[0;34m.\u001b[0m\u001b[0mbuffer_rgba\u001b[0m\u001b[0;34m(\u001b[0m\u001b[0;34m)\u001b[0m\u001b[0;34m)\u001b[0m\u001b[0;34m\u001b[0m\u001b[0m\n\u001b[0m\u001b[1;32m    447\u001b[0m \u001b[0;34m\u001b[0m\u001b[0m\n",
      "\u001b[0;31mBrokenPipeError\u001b[0m: [Errno 32] Broken pipe",
      "\nDuring handling of the above exception, another exception occurred:\n",
      "\u001b[0;31mCalledProcessError\u001b[0m                        Traceback (most recent call last)",
      "\u001b[0;32m<ipython-input-22-b6eb856ac5f5>\u001b[0m in \u001b[0;36m<module>\u001b[0;34m\u001b[0m\n\u001b[0;32m----> 1\u001b[0;31m \u001b[0msave_animation\u001b[0m\u001b[0;34m(\u001b[0m\u001b[0mtrain_stats\u001b[0m\u001b[0;34m,\u001b[0m \u001b[0mselected_wine_data\u001b[0m\u001b[0;34m,\u001b[0m \u001b[0;34m[\u001b[0m\u001b[0;34m'alcohol'\u001b[0m\u001b[0;34m,\u001b[0m \u001b[0;34m'volatile acidity'\u001b[0m\u001b[0;34m]\u001b[0m\u001b[0;34m,\u001b[0m \u001b[0;36m7\u001b[0m\u001b[0;34m,\u001b[0m \u001b[0;36m4\u001b[0m\u001b[0;34m,\u001b[0m \u001b[0mnum_frames\u001b[0m\u001b[0;34m=\u001b[0m\u001b[0;36m50\u001b[0m\u001b[0;34m)\u001b[0m\u001b[0;34m\u001b[0m\u001b[0m\n\u001b[0m",
      "\u001b[0;32m<ipython-input-18-38dde6a93abe>\u001b[0m in \u001b[0;36msave_animation\u001b[0;34m(performance, data, features, good_thresh, bad_thresh, num_frames, name)\u001b[0m\n\u001b[1;32m     37\u001b[0m                                    \u001b[0mrepeat\u001b[0m\u001b[0;34m=\u001b[0m\u001b[0;32mFalse\u001b[0m\u001b[0;34m,\u001b[0m \u001b[0mframes\u001b[0m\u001b[0;34m=\u001b[0m\u001b[0mrange\u001b[0m\u001b[0;34m(\u001b[0m\u001b[0mnum_frames\u001b[0m\u001b[0;34m)\u001b[0m\u001b[0;34m,\u001b[0m\u001b[0;34m\u001b[0m\u001b[0m\n\u001b[1;32m     38\u001b[0m                                    interval=120, blit=True)\n\u001b[0;32m---> 39\u001b[0;31m     \u001b[0manim\u001b[0m\u001b[0;34m.\u001b[0m\u001b[0msave\u001b[0m\u001b[0;34m(\u001b[0m\u001b[0mname\u001b[0m\u001b[0;34m)\u001b[0m\u001b[0;34m\u001b[0m\u001b[0m\n\u001b[0m\u001b[1;32m     40\u001b[0m     \u001b[0mprint\u001b[0m\u001b[0;34m(\u001b[0m\u001b[0;34m'[+] Animation saved as {}'\u001b[0m\u001b[0;34m.\u001b[0m\u001b[0mformat\u001b[0m\u001b[0;34m(\u001b[0m\u001b[0mname\u001b[0m\u001b[0;34m)\u001b[0m\u001b[0;34m)\u001b[0m\u001b[0;34m\u001b[0m\u001b[0m\n",
      "\u001b[0;32m/opt/conda/lib/python3.6/site-packages/matplotlib/animation.py\u001b[0m in \u001b[0;36msave\u001b[0;34m(self, filename, writer, fps, dpi, codec, bitrate, extra_args, metadata, extra_anim, savefig_kwargs, progress_callback)\u001b[0m\n\u001b[1;32m   1154\u001b[0m                             \u001b[0mprogress_callback\u001b[0m\u001b[0;34m(\u001b[0m\u001b[0mframe_number\u001b[0m\u001b[0;34m,\u001b[0m \u001b[0mtotal_frames\u001b[0m\u001b[0;34m)\u001b[0m\u001b[0;34m\u001b[0m\u001b[0m\n\u001b[1;32m   1155\u001b[0m                             \u001b[0mframe_number\u001b[0m \u001b[0;34m+=\u001b[0m \u001b[0;36m1\u001b[0m\u001b[0;34m\u001b[0m\u001b[0m\n\u001b[0;32m-> 1156\u001b[0;31m                     \u001b[0mwriter\u001b[0m\u001b[0;34m.\u001b[0m\u001b[0mgrab_frame\u001b[0m\u001b[0;34m(\u001b[0m\u001b[0;34m**\u001b[0m\u001b[0msavefig_kwargs\u001b[0m\u001b[0;34m)\u001b[0m\u001b[0;34m\u001b[0m\u001b[0m\n\u001b[0m\u001b[1;32m   1157\u001b[0m \u001b[0;34m\u001b[0m\u001b[0m\n\u001b[1;32m   1158\u001b[0m         \u001b[0;31m# Reconnect signal for first draw if necessary\u001b[0m\u001b[0;34m\u001b[0m\u001b[0;34m\u001b[0m\u001b[0m\n",
      "\u001b[0;32m/opt/conda/lib/python3.6/contextlib.py\u001b[0m in \u001b[0;36m__exit__\u001b[0;34m(self, type, value, traceback)\u001b[0m\n\u001b[1;32m     97\u001b[0m                 \u001b[0mvalue\u001b[0m \u001b[0;34m=\u001b[0m \u001b[0mtype\u001b[0m\u001b[0;34m(\u001b[0m\u001b[0;34m)\u001b[0m\u001b[0;34m\u001b[0m\u001b[0m\n\u001b[1;32m     98\u001b[0m             \u001b[0;32mtry\u001b[0m\u001b[0;34m:\u001b[0m\u001b[0;34m\u001b[0m\u001b[0m\n\u001b[0;32m---> 99\u001b[0;31m                 \u001b[0mself\u001b[0m\u001b[0;34m.\u001b[0m\u001b[0mgen\u001b[0m\u001b[0;34m.\u001b[0m\u001b[0mthrow\u001b[0m\u001b[0;34m(\u001b[0m\u001b[0mtype\u001b[0m\u001b[0;34m,\u001b[0m \u001b[0mvalue\u001b[0m\u001b[0;34m,\u001b[0m \u001b[0mtraceback\u001b[0m\u001b[0;34m)\u001b[0m\u001b[0;34m\u001b[0m\u001b[0m\n\u001b[0m\u001b[1;32m    100\u001b[0m             \u001b[0;32mexcept\u001b[0m \u001b[0mStopIteration\u001b[0m \u001b[0;32mas\u001b[0m \u001b[0mexc\u001b[0m\u001b[0;34m:\u001b[0m\u001b[0;34m\u001b[0m\u001b[0m\n\u001b[1;32m    101\u001b[0m                 \u001b[0;31m# Suppress StopIteration *unless* it's the same exception that\u001b[0m\u001b[0;34m\u001b[0m\u001b[0;34m\u001b[0m\u001b[0m\n",
      "\u001b[0;32m/opt/conda/lib/python3.6/site-packages/matplotlib/animation.py\u001b[0m in \u001b[0;36msaving\u001b[0;34m(self, fig, outfile, dpi, *args, **kwargs)\u001b[0m\n\u001b[1;32m    230\u001b[0m             \u001b[0;32myield\u001b[0m \u001b[0mself\u001b[0m\u001b[0;34m\u001b[0m\u001b[0m\n\u001b[1;32m    231\u001b[0m         \u001b[0;32mfinally\u001b[0m\u001b[0;34m:\u001b[0m\u001b[0;34m\u001b[0m\u001b[0m\n\u001b[0;32m--> 232\u001b[0;31m             \u001b[0mself\u001b[0m\u001b[0;34m.\u001b[0m\u001b[0mfinish\u001b[0m\u001b[0;34m(\u001b[0m\u001b[0;34m)\u001b[0m\u001b[0;34m\u001b[0m\u001b[0m\n\u001b[0m\u001b[1;32m    233\u001b[0m \u001b[0;34m\u001b[0m\u001b[0m\n\u001b[1;32m    234\u001b[0m \u001b[0;34m\u001b[0m\u001b[0m\n",
      "\u001b[0;32m/opt/conda/lib/python3.6/site-packages/matplotlib/animation.py\u001b[0m in \u001b[0;36mfinish\u001b[0;34m(self)\u001b[0m\n\u001b[1;32m    365\u001b[0m     \u001b[0;32mdef\u001b[0m \u001b[0mfinish\u001b[0m\u001b[0;34m(\u001b[0m\u001b[0mself\u001b[0m\u001b[0;34m)\u001b[0m\u001b[0;34m:\u001b[0m\u001b[0;34m\u001b[0m\u001b[0m\n\u001b[1;32m    366\u001b[0m         \u001b[0;34m'''Finish any processing for writing the movie.'''\u001b[0m\u001b[0;34m\u001b[0m\u001b[0m\n\u001b[0;32m--> 367\u001b[0;31m         \u001b[0mself\u001b[0m\u001b[0;34m.\u001b[0m\u001b[0mcleanup\u001b[0m\u001b[0;34m(\u001b[0m\u001b[0;34m)\u001b[0m\u001b[0;34m\u001b[0m\u001b[0m\n\u001b[0m\u001b[1;32m    368\u001b[0m \u001b[0;34m\u001b[0m\u001b[0m\n\u001b[1;32m    369\u001b[0m     \u001b[0;32mdef\u001b[0m \u001b[0mgrab_frame\u001b[0m\u001b[0;34m(\u001b[0m\u001b[0mself\u001b[0m\u001b[0;34m,\u001b[0m \u001b[0;34m**\u001b[0m\u001b[0msavefig_kwargs\u001b[0m\u001b[0;34m)\u001b[0m\u001b[0;34m:\u001b[0m\u001b[0;34m\u001b[0m\u001b[0m\n",
      "\u001b[0;32m/opt/conda/lib/python3.6/site-packages/matplotlib/animation.py\u001b[0m in \u001b[0;36mcleanup\u001b[0;34m(self)\u001b[0m\n\u001b[1;32m    409\u001b[0m         \u001b[0;32mif\u001b[0m \u001b[0mself\u001b[0m\u001b[0;34m.\u001b[0m\u001b[0m_proc\u001b[0m\u001b[0;34m.\u001b[0m\u001b[0mreturncode\u001b[0m\u001b[0;34m:\u001b[0m\u001b[0;34m\u001b[0m\u001b[0m\n\u001b[1;32m    410\u001b[0m             raise subprocess.CalledProcessError(\n\u001b[0;32m--> 411\u001b[0;31m                 self._proc.returncode, self._proc.args, out, err)\n\u001b[0m\u001b[1;32m    412\u001b[0m \u001b[0;34m\u001b[0m\u001b[0m\n\u001b[1;32m    413\u001b[0m     \u001b[0;34m@\u001b[0m\u001b[0mclassmethod\u001b[0m\u001b[0;34m\u001b[0m\u001b[0m\n",
      "\u001b[0;31mCalledProcessError\u001b[0m: Command '['ffmpeg', '-f', 'rawvideo', '-vcodec', 'rawvideo', '-s', '2250x750', '-pix_fmt', 'rgba', '-r', '8.333333333333334', '-loglevel', 'error', '-i', 'pipe:', '-vcodec', 'h264', '-pix_fmt', 'yuv420p', '-y', 'performance_animation.html']' returned non-zero exit status 1."
     ]
    },
    {
     "data": {
      "image/png": "[encoded data removed]",
      "text/plain": [
       "<Figure size 2250x750 with 1 Axes>"
      ]
     },
     "metadata": {
      "needs_background": "light"
     },
     "output_type": "display_data"
    },
    {
     "data": {
      "image/png": "[encoded data removed]",
      "text/plain": [
       "<Figure size 1080x360 with 2 Axes>"
      ]
     },
     "metadata": {
      "needs_background": "light"
     },
     "output_type": "display_data"
    },
    {
     "data": {
      "image/png": "[encoded data removed]",
      "text/plain": [
       "<Figure size 1080x360 with 2 Axes>"
      ]
     },
     "metadata": {
      "needs_background": "light"
     },
     "output_type": "display_data"
    }
   ],
   "source": [
    "save_animation(train_stats, selected_wine_data, ['alcohol', 'volatile acidity'], 7, 4, num_frames=50)"
   ]
  },
  {
   "cell_type": "markdown",
   "metadata": {},
   "source": [
    "---"
   ]
  },
  {
   "cell_type": "code",
   "execution_count": 24,
   "metadata": {
    "scrolled": true
   },
   "outputs": [
    {
     "ename": "KeyError",
     "evalue": "'pH'",
     "output_type": "error",
     "traceback": [
      "\u001b[0;31m---------------------------------------------------------------------------\u001b[0m",
      "\u001b[0;31mKeyError\u001b[0m                                  Traceback (most recent call last)",
      "\u001b[0;32m/opt/conda/lib/python3.6/site-packages/pandas/core/indexes/base.py\u001b[0m in \u001b[0;36mget_loc\u001b[0;34m(self, key, method, tolerance)\u001b[0m\n\u001b[1;32m   2896\u001b[0m             \u001b[0;32mtry\u001b[0m\u001b[0;34m:\u001b[0m\u001b[0;34m\u001b[0m\u001b[0m\n\u001b[0;32m-> 2897\u001b[0;31m                 \u001b[0;32mreturn\u001b[0m \u001b[0mself\u001b[0m\u001b[0;34m.\u001b[0m\u001b[0m_engine\u001b[0m\u001b[0;34m.\u001b[0m\u001b[0mget_loc\u001b[0m\u001b[0;34m(\u001b[0m\u001b[0mkey\u001b[0m\u001b[0;34m)\u001b[0m\u001b[0;34m\u001b[0m\u001b[0m\n\u001b[0m\u001b[1;32m   2898\u001b[0m             \u001b[0;32mexcept\u001b[0m \u001b[0mKeyError\u001b[0m\u001b[0;34m:\u001b[0m\u001b[0;34m\u001b[0m\u001b[0m\n",
      "\u001b[0;32mpandas/_libs/index.pyx\u001b[0m in \u001b[0;36mpandas._libs.index.IndexEngine.get_loc\u001b[0;34m()\u001b[0m\n",
      "\u001b[0;32mpandas/_libs/index.pyx\u001b[0m in \u001b[0;36mpandas._libs.index.IndexEngine.get_loc\u001b[0;34m()\u001b[0m\n",
      "\u001b[0;32mpandas/_libs/hashtable_class_helper.pxi\u001b[0m in \u001b[0;36mpandas._libs.hashtable.PyObjectHashTable.get_item\u001b[0;34m()\u001b[0m\n",
      "\u001b[0;32mpandas/_libs/hashtable_class_helper.pxi\u001b[0m in \u001b[0;36mpandas._libs.hashtable.PyObjectHashTable.get_item\u001b[0;34m()\u001b[0m\n",
      "\u001b[0;31mKeyError\u001b[0m: 'pH'",
      "\nDuring handling of the above exception, another exception occurred:\n",
      "\u001b[0;31mKeyError\u001b[0m                                  Traceback (most recent call last)",
      "\u001b[0;32m<ipython-input-24-b61f3f55d6ba>\u001b[0m in \u001b[0;36m<module>\u001b[0;34m\u001b[0m\n\u001b[0;32m----> 1\u001b[0;31m \u001b[0mfig\u001b[0m \u001b[0;34m=\u001b[0m \u001b[0mplot_performance\u001b[0m\u001b[0;34m(\u001b[0m\u001b[0mtrain_stats\u001b[0m\u001b[0;34m,\u001b[0m \u001b[0mselected_wine_data\u001b[0m\u001b[0;34m,\u001b[0m \u001b[0;34m[\u001b[0m\u001b[0;34m'alcohol'\u001b[0m\u001b[0;34m,\u001b[0m \u001b[0;34m'pH'\u001b[0m\u001b[0;34m]\u001b[0m\u001b[0;34m,\u001b[0m \u001b[0;36m7\u001b[0m\u001b[0;34m,\u001b[0m \u001b[0;36m4\u001b[0m\u001b[0;34m,\u001b[0m \u001b[0;34m-\u001b[0m\u001b[0;36m1\u001b[0m\u001b[0;34m,\u001b[0m \u001b[0;32mFalse\u001b[0m\u001b[0;34m)\u001b[0m\u001b[0;34m\u001b[0m\u001b[0m\n\u001b[0m\u001b[1;32m      2\u001b[0m \u001b[0mplt\u001b[0m\u001b[0;34m.\u001b[0m\u001b[0mshow\u001b[0m\u001b[0;34m(\u001b[0m\u001b[0mfig\u001b[0m\u001b[0;34m)\u001b[0m\u001b[0;34m\u001b[0m\u001b[0m\n",
      "\u001b[0;32m<ipython-input-17-39f46fa23e6e>\u001b[0m in \u001b[0;36mplot_performance\u001b[0;34m(performance, wine_data, features, good_thresh, bad_thresh, epoch, save_plot, save_name)\u001b[0m\n\u001b[1;32m     65\u001b[0m \u001b[0;34m\u001b[0m\u001b[0m\n\u001b[1;32m     66\u001b[0m     \u001b[0mdraw_num_errors\u001b[0m\u001b[0;34m(\u001b[0m\u001b[0maxes\u001b[0m\u001b[0;34m[\u001b[0m\u001b[0;36m0\u001b[0m\u001b[0;34m]\u001b[0m\u001b[0;34m,\u001b[0m \u001b[0mperformance\u001b[0m\u001b[0;34m,\u001b[0m \u001b[0mepoch\u001b[0m\u001b[0;34m)\u001b[0m\u001b[0;34m\u001b[0m\u001b[0m\n\u001b[0;32m---> 67\u001b[0;31m     \u001b[0mdraw_decision_boundary\u001b[0m\u001b[0;34m(\u001b[0m\u001b[0maxes\u001b[0m\u001b[0;34m[\u001b[0m\u001b[0;36m1\u001b[0m\u001b[0;34m]\u001b[0m\u001b[0;34m,\u001b[0m \u001b[0mperformance\u001b[0m\u001b[0;34m,\u001b[0m \u001b[0mepoch\u001b[0m\u001b[0;34m,\u001b[0m \u001b[0mwine_data\u001b[0m\u001b[0;34m,\u001b[0m \u001b[0mfeatures\u001b[0m\u001b[0;34m)\u001b[0m\u001b[0;34m\u001b[0m\u001b[0m\n\u001b[0m\u001b[1;32m     68\u001b[0m     \u001b[0mdraw_scatter\u001b[0m\u001b[0;34m(\u001b[0m\u001b[0maxes\u001b[0m\u001b[0;34m[\u001b[0m\u001b[0;36m1\u001b[0m\u001b[0;34m]\u001b[0m\u001b[0;34m,\u001b[0m \u001b[0mwine_data\u001b[0m\u001b[0;34m,\u001b[0m \u001b[0mfeatures\u001b[0m\u001b[0;34m,\u001b[0m \u001b[0mgood_thresh\u001b[0m\u001b[0;34m,\u001b[0m \u001b[0mbad_thresh\u001b[0m\u001b[0;34m)\u001b[0m\u001b[0;34m\u001b[0m\u001b[0m\n\u001b[1;32m     69\u001b[0m \u001b[0;34m\u001b[0m\u001b[0m\n",
      "\u001b[0;32m<ipython-input-17-39f46fa23e6e>\u001b[0m in \u001b[0;36mdraw_decision_boundary\u001b[0;34m(ax, performance, epoch, wine_data, features)\u001b[0m\n\u001b[1;32m     13\u001b[0m     \u001b[0mx_min\u001b[0m \u001b[0;34m=\u001b[0m \u001b[0mwine_data\u001b[0m\u001b[0;34m.\u001b[0m\u001b[0mloc\u001b[0m\u001b[0;34m[\u001b[0m\u001b[0;34m:\u001b[0m\u001b[0;34m,\u001b[0m \u001b[0mfeatures\u001b[0m\u001b[0;34m[\u001b[0m\u001b[0;36m0\u001b[0m\u001b[0;34m]\u001b[0m\u001b[0;34m]\u001b[0m\u001b[0;34m.\u001b[0m\u001b[0mmin\u001b[0m\u001b[0;34m(\u001b[0m\u001b[0;34m)\u001b[0m \u001b[0;34m-\u001b[0m \u001b[0;36m0.15\u001b[0m\u001b[0;34m\u001b[0m\u001b[0m\n\u001b[1;32m     14\u001b[0m     \u001b[0mx_max\u001b[0m \u001b[0;34m=\u001b[0m \u001b[0mwine_data\u001b[0m\u001b[0;34m.\u001b[0m\u001b[0mloc\u001b[0m\u001b[0;34m[\u001b[0m\u001b[0;34m:\u001b[0m\u001b[0;34m,\u001b[0m \u001b[0mfeatures\u001b[0m\u001b[0;34m[\u001b[0m\u001b[0;36m0\u001b[0m\u001b[0;34m]\u001b[0m\u001b[0;34m]\u001b[0m\u001b[0;34m.\u001b[0m\u001b[0mmax\u001b[0m\u001b[0;34m(\u001b[0m\u001b[0;34m)\u001b[0m \u001b[0;34m+\u001b[0m \u001b[0;36m0.15\u001b[0m\u001b[0;34m\u001b[0m\u001b[0m\n\u001b[0;32m---> 15\u001b[0;31m     \u001b[0my_min\u001b[0m \u001b[0;34m=\u001b[0m \u001b[0mwine_data\u001b[0m\u001b[0;34m.\u001b[0m\u001b[0mloc\u001b[0m\u001b[0;34m[\u001b[0m\u001b[0;34m:\u001b[0m\u001b[0;34m,\u001b[0m \u001b[0mfeatures\u001b[0m\u001b[0;34m[\u001b[0m\u001b[0;36m1\u001b[0m\u001b[0;34m]\u001b[0m\u001b[0;34m]\u001b[0m\u001b[0;34m.\u001b[0m\u001b[0mmin\u001b[0m\u001b[0;34m(\u001b[0m\u001b[0;34m)\u001b[0m \u001b[0;34m-\u001b[0m \u001b[0;36m0.15\u001b[0m\u001b[0;34m\u001b[0m\u001b[0m\n\u001b[0m\u001b[1;32m     16\u001b[0m     \u001b[0my_max\u001b[0m \u001b[0;34m=\u001b[0m \u001b[0mwine_data\u001b[0m\u001b[0;34m.\u001b[0m\u001b[0mloc\u001b[0m\u001b[0;34m[\u001b[0m\u001b[0;34m:\u001b[0m\u001b[0;34m,\u001b[0m \u001b[0mfeatures\u001b[0m\u001b[0;34m[\u001b[0m\u001b[0;36m1\u001b[0m\u001b[0;34m]\u001b[0m\u001b[0;34m]\u001b[0m\u001b[0;34m.\u001b[0m\u001b[0mmax\u001b[0m\u001b[0;34m(\u001b[0m\u001b[0;34m)\u001b[0m \u001b[0;34m+\u001b[0m \u001b[0;36m0.15\u001b[0m\u001b[0;34m\u001b[0m\u001b[0m\n\u001b[1;32m     17\u001b[0m \u001b[0;34m\u001b[0m\u001b[0m\n",
      "\u001b[0;32m/opt/conda/lib/python3.6/site-packages/pandas/core/indexing.py\u001b[0m in \u001b[0;36m__getitem__\u001b[0;34m(self, key)\u001b[0m\n\u001b[1;32m   1416\u001b[0m                 \u001b[0;32mexcept\u001b[0m \u001b[0;34m(\u001b[0m\u001b[0mKeyError\u001b[0m\u001b[0;34m,\u001b[0m \u001b[0mIndexError\u001b[0m\u001b[0;34m,\u001b[0m \u001b[0mAttributeError\u001b[0m\u001b[0;34m)\u001b[0m\u001b[0;34m:\u001b[0m\u001b[0;34m\u001b[0m\u001b[0m\n\u001b[1;32m   1417\u001b[0m                     \u001b[0;32mpass\u001b[0m\u001b[0;34m\u001b[0m\u001b[0m\n\u001b[0;32m-> 1418\u001b[0;31m             \u001b[0;32mreturn\u001b[0m \u001b[0mself\u001b[0m\u001b[0;34m.\u001b[0m\u001b[0m_getitem_tuple\u001b[0m\u001b[0;34m(\u001b[0m\u001b[0mkey\u001b[0m\u001b[0;34m)\u001b[0m\u001b[0;34m\u001b[0m\u001b[0m\n\u001b[0m\u001b[1;32m   1419\u001b[0m         \u001b[0;32melse\u001b[0m\u001b[0;34m:\u001b[0m\u001b[0;34m\u001b[0m\u001b[0m\n\u001b[1;32m   1420\u001b[0m             \u001b[0;31m# we by definition only have the 0th axis\u001b[0m\u001b[0;34m\u001b[0m\u001b[0;34m\u001b[0m\u001b[0m\n",
      "\u001b[0;32m/opt/conda/lib/python3.6/site-packages/pandas/core/indexing.py\u001b[0m in \u001b[0;36m_getitem_tuple\u001b[0;34m(self, tup)\u001b[0m\n\u001b[1;32m    803\u001b[0m     \u001b[0;32mdef\u001b[0m \u001b[0m_getitem_tuple\u001b[0m\u001b[0;34m(\u001b[0m\u001b[0mself\u001b[0m\u001b[0;34m,\u001b[0m \u001b[0mtup\u001b[0m\u001b[0;34m)\u001b[0m\u001b[0;34m:\u001b[0m\u001b[0;34m\u001b[0m\u001b[0m\n\u001b[1;32m    804\u001b[0m         \u001b[0;32mtry\u001b[0m\u001b[0;34m:\u001b[0m\u001b[0;34m\u001b[0m\u001b[0m\n\u001b[0;32m--> 805\u001b[0;31m             \u001b[0;32mreturn\u001b[0m \u001b[0mself\u001b[0m\u001b[0;34m.\u001b[0m\u001b[0m_getitem_lowerdim\u001b[0m\u001b[0;34m(\u001b[0m\u001b[0mtup\u001b[0m\u001b[0;34m)\u001b[0m\u001b[0;34m\u001b[0m\u001b[0m\n\u001b[0m\u001b[1;32m    806\u001b[0m         \u001b[0;32mexcept\u001b[0m \u001b[0mIndexingError\u001b[0m\u001b[0;34m:\u001b[0m\u001b[0;34m\u001b[0m\u001b[0m\n\u001b[1;32m    807\u001b[0m             \u001b[0;32mpass\u001b[0m\u001b[0;34m\u001b[0m\u001b[0m\n",
      "\u001b[0;32m/opt/conda/lib/python3.6/site-packages/pandas/core/indexing.py\u001b[0m in \u001b[0;36m_getitem_lowerdim\u001b[0;34m(self, tup)\u001b[0m\n\u001b[1;32m    927\u001b[0m         \u001b[0;32mfor\u001b[0m \u001b[0mi\u001b[0m\u001b[0;34m,\u001b[0m \u001b[0mkey\u001b[0m \u001b[0;32min\u001b[0m \u001b[0menumerate\u001b[0m\u001b[0;34m(\u001b[0m\u001b[0mtup\u001b[0m\u001b[0;34m)\u001b[0m\u001b[0;34m:\u001b[0m\u001b[0;34m\u001b[0m\u001b[0m\n\u001b[1;32m    928\u001b[0m             \u001b[0;32mif\u001b[0m \u001b[0mis_label_like\u001b[0m\u001b[0;34m(\u001b[0m\u001b[0mkey\u001b[0m\u001b[0;34m)\u001b[0m \u001b[0;32mor\u001b[0m \u001b[0misinstance\u001b[0m\u001b[0;34m(\u001b[0m\u001b[0mkey\u001b[0m\u001b[0;34m,\u001b[0m \u001b[0mtuple\u001b[0m\u001b[0;34m)\u001b[0m\u001b[0;34m:\u001b[0m\u001b[0;34m\u001b[0m\u001b[0m\n\u001b[0;32m--> 929\u001b[0;31m                 \u001b[0msection\u001b[0m \u001b[0;34m=\u001b[0m \u001b[0mself\u001b[0m\u001b[0;34m.\u001b[0m\u001b[0m_getitem_axis\u001b[0m\u001b[0;34m(\u001b[0m\u001b[0mkey\u001b[0m\u001b[0;34m,\u001b[0m \u001b[0maxis\u001b[0m\u001b[0;34m=\u001b[0m\u001b[0mi\u001b[0m\u001b[0;34m)\u001b[0m\u001b[0;34m\u001b[0m\u001b[0m\n\u001b[0m\u001b[1;32m    930\u001b[0m \u001b[0;34m\u001b[0m\u001b[0m\n\u001b[1;32m    931\u001b[0m                 \u001b[0;31m# we have yielded a scalar ?\u001b[0m\u001b[0;34m\u001b[0m\u001b[0;34m\u001b[0m\u001b[0m\n",
      "\u001b[0;32m/opt/conda/lib/python3.6/site-packages/pandas/core/indexing.py\u001b[0m in \u001b[0;36m_getitem_axis\u001b[0;34m(self, key, axis)\u001b[0m\n\u001b[1;32m   1848\u001b[0m         \u001b[0;31m# fall thru to straight lookup\u001b[0m\u001b[0;34m\u001b[0m\u001b[0;34m\u001b[0m\u001b[0m\n\u001b[1;32m   1849\u001b[0m         \u001b[0mself\u001b[0m\u001b[0;34m.\u001b[0m\u001b[0m_validate_key\u001b[0m\u001b[0;34m(\u001b[0m\u001b[0mkey\u001b[0m\u001b[0;34m,\u001b[0m \u001b[0maxis\u001b[0m\u001b[0;34m)\u001b[0m\u001b[0;34m\u001b[0m\u001b[0m\n\u001b[0;32m-> 1850\u001b[0;31m         \u001b[0;32mreturn\u001b[0m \u001b[0mself\u001b[0m\u001b[0;34m.\u001b[0m\u001b[0m_get_label\u001b[0m\u001b[0;34m(\u001b[0m\u001b[0mkey\u001b[0m\u001b[0;34m,\u001b[0m \u001b[0maxis\u001b[0m\u001b[0;34m=\u001b[0m\u001b[0maxis\u001b[0m\u001b[0;34m)\u001b[0m\u001b[0;34m\u001b[0m\u001b[0m\n\u001b[0m\u001b[1;32m   1851\u001b[0m \u001b[0;34m\u001b[0m\u001b[0m\n\u001b[1;32m   1852\u001b[0m \u001b[0;34m\u001b[0m\u001b[0m\n",
      "\u001b[0;32m/opt/conda/lib/python3.6/site-packages/pandas/core/indexing.py\u001b[0m in \u001b[0;36m_get_label\u001b[0;34m(self, label, axis)\u001b[0m\n\u001b[1;32m    158\u001b[0m             \u001b[0;32mraise\u001b[0m \u001b[0mIndexingError\u001b[0m\u001b[0;34m(\u001b[0m\u001b[0;34m\"no slices here, handle elsewhere\"\u001b[0m\u001b[0;34m)\u001b[0m\u001b[0;34m\u001b[0m\u001b[0m\n\u001b[1;32m    159\u001b[0m \u001b[0;34m\u001b[0m\u001b[0m\n\u001b[0;32m--> 160\u001b[0;31m         \u001b[0;32mreturn\u001b[0m \u001b[0mself\u001b[0m\u001b[0;34m.\u001b[0m\u001b[0mobj\u001b[0m\u001b[0;34m.\u001b[0m\u001b[0m_xs\u001b[0m\u001b[0;34m(\u001b[0m\u001b[0mlabel\u001b[0m\u001b[0;34m,\u001b[0m \u001b[0maxis\u001b[0m\u001b[0;34m=\u001b[0m\u001b[0maxis\u001b[0m\u001b[0;34m)\u001b[0m\u001b[0;34m\u001b[0m\u001b[0m\n\u001b[0m\u001b[1;32m    161\u001b[0m \u001b[0;34m\u001b[0m\u001b[0m\n\u001b[1;32m    162\u001b[0m     \u001b[0;32mdef\u001b[0m \u001b[0m_get_loc\u001b[0m\u001b[0;34m(\u001b[0m\u001b[0mself\u001b[0m\u001b[0;34m,\u001b[0m \u001b[0mkey\u001b[0m\u001b[0;34m:\u001b[0m \u001b[0mint\u001b[0m\u001b[0;34m,\u001b[0m \u001b[0maxis\u001b[0m\u001b[0;34m:\u001b[0m \u001b[0mint\u001b[0m\u001b[0;34m)\u001b[0m\u001b[0;34m:\u001b[0m\u001b[0;34m\u001b[0m\u001b[0m\n",
      "\u001b[0;32m/opt/conda/lib/python3.6/site-packages/pandas/core/generic.py\u001b[0m in \u001b[0;36mxs\u001b[0;34m(self, key, axis, level, drop_level)\u001b[0m\n\u001b[1;32m   3727\u001b[0m \u001b[0;34m\u001b[0m\u001b[0m\n\u001b[1;32m   3728\u001b[0m         \u001b[0;32mif\u001b[0m \u001b[0maxis\u001b[0m \u001b[0;34m==\u001b[0m \u001b[0;36m1\u001b[0m\u001b[0;34m:\u001b[0m\u001b[0;34m\u001b[0m\u001b[0m\n\u001b[0;32m-> 3729\u001b[0;31m             \u001b[0;32mreturn\u001b[0m \u001b[0mself\u001b[0m\u001b[0;34m[\u001b[0m\u001b[0mkey\u001b[0m\u001b[0;34m]\u001b[0m\u001b[0;34m\u001b[0m\u001b[0m\n\u001b[0m\u001b[1;32m   3730\u001b[0m \u001b[0;34m\u001b[0m\u001b[0m\n\u001b[1;32m   3731\u001b[0m         \u001b[0mself\u001b[0m\u001b[0;34m.\u001b[0m\u001b[0m_consolidate_inplace\u001b[0m\u001b[0;34m(\u001b[0m\u001b[0;34m)\u001b[0m\u001b[0;34m\u001b[0m\u001b[0m\n",
      "\u001b[0;32m/opt/conda/lib/python3.6/site-packages/pandas/core/frame.py\u001b[0m in \u001b[0;36m__getitem__\u001b[0;34m(self, key)\u001b[0m\n\u001b[1;32m   2993\u001b[0m             \u001b[0;32mif\u001b[0m \u001b[0mself\u001b[0m\u001b[0;34m.\u001b[0m\u001b[0mcolumns\u001b[0m\u001b[0;34m.\u001b[0m\u001b[0mnlevels\u001b[0m \u001b[0;34m>\u001b[0m \u001b[0;36m1\u001b[0m\u001b[0;34m:\u001b[0m\u001b[0;34m\u001b[0m\u001b[0m\n\u001b[1;32m   2994\u001b[0m                 \u001b[0;32mreturn\u001b[0m \u001b[0mself\u001b[0m\u001b[0;34m.\u001b[0m\u001b[0m_getitem_multilevel\u001b[0m\u001b[0;34m(\u001b[0m\u001b[0mkey\u001b[0m\u001b[0;34m)\u001b[0m\u001b[0;34m\u001b[0m\u001b[0m\n\u001b[0;32m-> 2995\u001b[0;31m             \u001b[0mindexer\u001b[0m \u001b[0;34m=\u001b[0m \u001b[0mself\u001b[0m\u001b[0;34m.\u001b[0m\u001b[0mcolumns\u001b[0m\u001b[0;34m.\u001b[0m\u001b[0mget_loc\u001b[0m\u001b[0;34m(\u001b[0m\u001b[0mkey\u001b[0m\u001b[0;34m)\u001b[0m\u001b[0;34m\u001b[0m\u001b[0m\n\u001b[0m\u001b[1;32m   2996\u001b[0m             \u001b[0;32mif\u001b[0m \u001b[0mis_integer\u001b[0m\u001b[0;34m(\u001b[0m\u001b[0mindexer\u001b[0m\u001b[0;34m)\u001b[0m\u001b[0;34m:\u001b[0m\u001b[0;34m\u001b[0m\u001b[0m\n\u001b[1;32m   2997\u001b[0m                 \u001b[0mindexer\u001b[0m \u001b[0;34m=\u001b[0m \u001b[0;34m[\u001b[0m\u001b[0mindexer\u001b[0m\u001b[0;34m]\u001b[0m\u001b[0;34m\u001b[0m\u001b[0m\n",
      "\u001b[0;32m/opt/conda/lib/python3.6/site-packages/pandas/core/indexes/base.py\u001b[0m in \u001b[0;36mget_loc\u001b[0;34m(self, key, method, tolerance)\u001b[0m\n\u001b[1;32m   2897\u001b[0m                 \u001b[0;32mreturn\u001b[0m \u001b[0mself\u001b[0m\u001b[0;34m.\u001b[0m\u001b[0m_engine\u001b[0m\u001b[0;34m.\u001b[0m\u001b[0mget_loc\u001b[0m\u001b[0;34m(\u001b[0m\u001b[0mkey\u001b[0m\u001b[0;34m)\u001b[0m\u001b[0;34m\u001b[0m\u001b[0m\n\u001b[1;32m   2898\u001b[0m             \u001b[0;32mexcept\u001b[0m \u001b[0mKeyError\u001b[0m\u001b[0;34m:\u001b[0m\u001b[0;34m\u001b[0m\u001b[0m\n\u001b[0;32m-> 2899\u001b[0;31m                 \u001b[0;32mreturn\u001b[0m \u001b[0mself\u001b[0m\u001b[0;34m.\u001b[0m\u001b[0m_engine\u001b[0m\u001b[0;34m.\u001b[0m\u001b[0mget_loc\u001b[0m\u001b[0;34m(\u001b[0m\u001b[0mself\u001b[0m\u001b[0;34m.\u001b[0m\u001b[0m_maybe_cast_indexer\u001b[0m\u001b[0;34m(\u001b[0m\u001b[0mkey\u001b[0m\u001b[0;34m)\u001b[0m\u001b[0;34m)\u001b[0m\u001b[0;34m\u001b[0m\u001b[0m\n\u001b[0m\u001b[1;32m   2900\u001b[0m         \u001b[0mindexer\u001b[0m \u001b[0;34m=\u001b[0m \u001b[0mself\u001b[0m\u001b[0;34m.\u001b[0m\u001b[0mget_indexer\u001b[0m\u001b[0;34m(\u001b[0m\u001b[0;34m[\u001b[0m\u001b[0mkey\u001b[0m\u001b[0;34m]\u001b[0m\u001b[0;34m,\u001b[0m \u001b[0mmethod\u001b[0m\u001b[0;34m=\u001b[0m\u001b[0mmethod\u001b[0m\u001b[0;34m,\u001b[0m \u001b[0mtolerance\u001b[0m\u001b[0;34m=\u001b[0m\u001b[0mtolerance\u001b[0m\u001b[0;34m)\u001b[0m\u001b[0;34m\u001b[0m\u001b[0m\n\u001b[1;32m   2901\u001b[0m         \u001b[0;32mif\u001b[0m \u001b[0mindexer\u001b[0m\u001b[0;34m.\u001b[0m\u001b[0mndim\u001b[0m \u001b[0;34m>\u001b[0m \u001b[0;36m1\u001b[0m \u001b[0;32mor\u001b[0m \u001b[0mindexer\u001b[0m\u001b[0;34m.\u001b[0m\u001b[0msize\u001b[0m \u001b[0;34m>\u001b[0m \u001b[0;36m1\u001b[0m\u001b[0;34m:\u001b[0m\u001b[0;34m\u001b[0m\u001b[0m\n",
      "\u001b[0;32mpandas/_libs/index.pyx\u001b[0m in \u001b[0;36mpandas._libs.index.IndexEngine.get_loc\u001b[0;34m()\u001b[0m\n",
      "\u001b[0;32mpandas/_libs/index.pyx\u001b[0m in \u001b[0;36mpandas._libs.index.IndexEngine.get_loc\u001b[0;34m()\u001b[0m\n",
      "\u001b[0;32mpandas/_libs/hashtable_class_helper.pxi\u001b[0m in \u001b[0;36mpandas._libs.hashtable.PyObjectHashTable.get_item\u001b[0;34m()\u001b[0m\n",
      "\u001b[0;32mpandas/_libs/hashtable_class_helper.pxi\u001b[0m in \u001b[0;36mpandas._libs.hashtable.PyObjectHashTable.get_item\u001b[0;34m()\u001b[0m\n",
      "\u001b[0;31mKeyError\u001b[0m: 'pH'"
     ]
    },
    {
     "data": {
      "image/png": "[encoded data removed]",
      "text/plain": [
       "<Figure size 1080x360 with 2 Axes>"
      ]
     },
     "metadata": {
      "needs_background": "light"
     },
     "output_type": "display_data"
    }
   ],
   "source": [
    "fig = plot_performance(train_stats, selected_wine_data, ['alcohol', 'pH'], 7, 4, -1, False)\n",
    "plt.show(fig)"
   ]
  },
  {
   "cell_type": "markdown",
   "metadata": {},
   "source": [
    "### d) Feature Scaling\n",
    "\n",
    "x* = (x - average(x)) / (max(x) - min(x)) "
   ]
  },
  {
   "cell_type": "code",
   "execution_count": null,
   "metadata": {},
   "outputs": [],
   "source": [
    "def normalize_series(series):\n",
    "    \"\"\"\n",
    "    Perform mean normalization of pandas.Series\n",
    "    \"\"\"\n",
    "\n",
    "    if not isinstance(series, pd.Series):\n",
    "        raise ValueError('input argument is not an instance of pandas.Series class')\n",
    "\n",
    "    return (series - series.mean()) / (series.max() - series.min()) "
   ]
  },
  {
   "cell_type": "code",
   "execution_count": null,
   "metadata": {},
   "outputs": [],
   "source": [
    "selected_wine_data['volatile acidity'] = normalize_series(selected_wine_data['volatile acidity'])\n",
    "selected_wine_data['alcohol'] = normalize_series(selected_wine_data['alcohol'])\n",
    "\n",
    "X = selected_wine_data.loc[:, ['volatile acidity', 'alcohol']]\n",
    "Y = selected_wine_data['goodness'].values"
   ]
  },
  {
   "cell_type": "code",
   "execution_count": null,
   "metadata": {
    "scrolled": true
   },
   "outputs": [],
   "source": [
    "p = Perceptron(lr=0.005)\n",
    "\n",
    "train_stats = p.train(X.values, Y, 0, verbose=True, seed=1699)"
   ]
  },
  {
   "cell_type": "code",
   "execution_count": null,
   "metadata": {
    "scrolled": true
   },
   "outputs": [],
   "source": [
    "fig = plot_performance(train_stats, selected_wine_data, ['alcohol', 'volatile acidity'], 7, 4, -1, False)\n",
    "plt.show(fig)"
   ]
  },
  {
   "cell_type": "code",
   "execution_count": null,
   "metadata": {},
   "outputs": [],
   "source": [
    "save_animation(train_stats, selected_wine_data, ['alcohol', 'pH'], 7, 4, num_frames=-1)"
   ]
  },
  {
   "cell_type": "markdown",
   "metadata": {},
   "source": [
    "----------------------------------\n",
    "# V.3 My fair ADALINE"
   ]
  },
  {
   "cell_type": "markdown",
   "metadata": {},
   "source": [
    "### a) Marvin notices and chides you for torturing your perceptron. Why?\n",
    "\n",
    "Let's try to distinguish between wines with a score of 4 and lower, and wines with a score of 7 and higher. We'll see, that perceptron learns shit on this data.\n",
    "\n",
    "It happens because single layer perceptrons are only capable of learning linearly separable patterns. The perceptron learning algorithm does not terminate if the learning set is not linearly separable, it will just never reach a point where all vectors are classified properly."
   ]
  },
  {
   "cell_type": "code",
   "execution_count": null,
   "metadata": {},
   "outputs": [],
   "source": [
    "features = ['volatile acidity', 'alcohol', 'quality', 'goodness']\n",
    "selected_wine_data = wine_data[(wine_data['quality'] > 6) | (wine_data['quality'] < 5)][features]\n",
    "selected_wine_data = selected_wine_data.reset_index(drop=True)\n",
    "\n",
    "selected_wine_data['volatile acidity'] = normalize_series(selected_wine_data['volatile acidity'])\n",
    "selected_wine_data['alcohol'] = normalize_series(selected_wine_data['alcohol'])\n",
    "\n",
    "X = selected_wine_data.loc[:, ['volatile acidity', 'alcohol']]\n",
    "Y = selected_wine_data['goodness']\n",
    "\n",
    "print('{} samples selected:\\n'.format(X.shape[0]))\n",
    "print(X[:10])\n",
    "print('...')"
   ]
  },
  {
   "cell_type": "code",
   "execution_count": null,
   "metadata": {
    "scrolled": true
   },
   "outputs": [],
   "source": [
    "p = Perceptron(lr=0.001)\n",
    "\n",
    "train_stats = p.train(X.values, Y, 1000, verbose=True)"
   ]
  },
  {
   "cell_type": "code",
   "execution_count": null,
   "metadata": {},
   "outputs": [],
   "source": [
    "fig = plot_performance(train_stats, selected_wine_data, ['alcohol', 'volatile acidity'], 6, 5, -1, False)\n",
    "plt.show(fig)"
   ]
  },
  {
   "cell_type": "markdown",
   "metadata": {},
   "source": [
    "### b) & c) Implementing ADALINE (Adaptive Linear Neuron)\n",
    "\n",
    "Adaline is similar to Perceptron and also belongs to the class of single layer binary classifiers. But there are some differences:\n",
    "- Adaline cost function is Sum Squared Error (SSE) instead of normal error of each training sample in Perceptron;\n",
    "- Adaline tries to minimize the cost function using Gradient Descent in contrast to Perceptron learning rule. This is an advantage of Adaline as it allows to calculate the error based on continous values rather than binary value;"
   ]
  },
  {
   "cell_type": "code",
   "execution_count": null,
   "metadata": {},
   "outputs": [],
   "source": [
    "class Adaline(object):\n",
    "\n",
    "    def __init__(self, lr):\n",
    "        self.W = None\n",
    "        self.lr = lr\n",
    "        self.performance = []\n",
    "\n",
    "    def _net_input(self, X):\n",
    "        \"\"\"\n",
    "        Linear model output: y = W.T * X + b\n",
    "        \"\"\"\n",
    "        return ft_dot(self.W[1:], X) + self.W[0]\n",
    "    \n",
    "    def _activation_function(self, X):\n",
    "        net_input = self._net_input(X)\n",
    "        return 1 / (1 + math.exp(-net_input))\n",
    "    \n",
    "    def predict(self, X):\n",
    "        \"\"\"\n",
    "        Mapping the net input to binary class value using unit (heaviside) step function\n",
    "        \"\"\"\n",
    "        return 1 if self._activation_function(X) > 0.5 else 0\n",
    "    \n",
    "    def evaluate_accuracy(self, X, y):\n",
    "        num_correct = 0\n",
    "\n",
    "        for xi, yi in zip(X, y):\n",
    "            num_correct += int(self.predict(xi) == int(yi))\n",
    "        \n",
    "        accuracy = num_correct / len(y)\n",
    "        print('[.] Model accuracy: {0:.3f}'.format(accuracy))\n",
    "        \n",
    "        return accuracy\n",
    "    \n",
    "    def _eval_epoch(self, X, y, epoch):\n",
    "        num_missclass = 0\n",
    "\n",
    "        for xi, yi in zip(X, y):\n",
    "            num_missclass += int(self.predict(xi) != int(yi))\n",
    "\n",
    "        return num_missclass\n",
    "    \n",
    "    def _train_epoch(self, X, y, epoch, mode, verbose):\n",
    "        epoch_errors = []\n",
    "\n",
    "        for xi, yi in zip(X, y):\n",
    "            error = yi - self._activation_function(xi)\n",
    "            epoch_errors.append(error)\n",
    "\n",
    "            if mode == 'stochastic':\n",
    "                self.W[0] += self.lr * error\n",
    "                self.W[1:] += self.lr * error * xi\n",
    "\n",
    "        if mode == 'batch':\n",
    "            self.W[0] += self.lr * sum(epoch_errors)\n",
    "            self.W[1:] += self.lr * ft_dot(X, epoch_errors)\n",
    "\n",
    "        num_missclass = self._eval_epoch(X, y, epoch)\n",
    "        if verbose and epoch % 10 == 0:\n",
    "            print('Epoch {}: {} errors'.format(epoch, num_missclass))\n",
    "        self.performance.append((epoch, num_missclass, self.W[1:], self.W[0]))\n",
    "        \n",
    "        return epoch_errors\n",
    "\n",
    "    \n",
    "    def train(self, X, y, epochs, mode='batch', verbose=False, seed=None):\n",
    "        if epochs < 0:\n",
    "            raise ValueError('invalid number of training epochs')\n",
    "        \n",
    "        if mode != 'stochastic' and mode != 'batch':\n",
    "            raise ValueError('invalid training mode')\n",
    "\n",
    "        if seed:\n",
    "            random.seed(seed)\n",
    "            \n",
    "        if self.W is None:\n",
    "            self.W = [0.0001 * random.uniform(-1, 1) for i in range(X.shape[1] + 1)]\n",
    "\n",
    "        epoch = 0\n",
    "        while True:\n",
    "            epoch_errors = self._train_epoch(X, y, epoch, mode, verbose)\n",
    "            epoch += 1\n",
    "            if epochs != 0 and epoch == epochs:\n",
    "                break\n",
    "            elif epochs == 0 and epoch_errors == 0:\n",
    "                break\n",
    "        \n",
    "        return self.performance"
   ]
  },
  {
   "cell_type": "markdown",
   "metadata": {},
   "source": [
    "### d) Find a good learning rate for your ADALINE"
   ]
  },
  {
   "cell_type": "code",
   "execution_count": null,
   "metadata": {},
   "outputs": [],
   "source": [
    "# trying random search for learning rate tuning\n",
    "\n",
    "for n in range(10):\n",
    "    lr = round(random.uniform(0.001, 0.05), 5)\n",
    "    ad = Adaline(lr)\n",
    "    \n",
    "    train_stats = ad.train(X.values, Y, 300, 'batch', verbose=False)\n",
    "    num_errors = [elem[1] for elem in train_stats]\n",
    "    min_errors = min(num_errors)\n",
    "    last_error = train_stats[-1][1]\n",
    "    \n",
    "    print('try: {}, lr: {}, last error: {}, {} min errors,'.format(n, lr, last_error, min_errors))"
   ]
  },
  {
   "cell_type": "code",
   "execution_count": null,
   "metadata": {
    "scrolled": true
   },
   "outputs": [],
   "source": [
    "ad = Adaline(lr=0.05)\n",
    "\n",
    "train_stats = ad.train(X.values, Y, 301, 'batch', verbose=True)"
   ]
  },
  {
   "cell_type": "code",
   "execution_count": null,
   "metadata": {
    "scrolled": true
   },
   "outputs": [],
   "source": [
    "fig = plot_performance(train_stats, selected_wine_data, ['alcohol', 'volatile acidity'], 6, 5, -1, False)\n",
    "plt.show(fig)"
   ]
  },
  {
   "cell_type": "code",
   "execution_count": null,
   "metadata": {
    "scrolled": true
   },
   "outputs": [],
   "source": [
    "save_animation(train_stats, selected_wine_data, ['alcohol', 'volatile acidity'], 7, 4, num_frames=100)"
   ]
  },
  {
   "cell_type": "markdown",
   "metadata": {},
   "source": [
    "---\n",
    "## V.4 Advanced wine sampling and resampling"
   ]
  },
  {
   "cell_type": "markdown",
   "metadata": {},
   "source": [
    "### a) Write a function that uses the holdout method to partition the red wine data into a training and a validation set"
   ]
  },
  {
   "cell_type": "code",
   "execution_count": null,
   "metadata": {},
   "outputs": [],
   "source": [
    "def train_test_split(wine_data, test_size=0.7):\n",
    "    train_set = wine_data.sample(frac=test_size)\n",
    "    test_set = wine_data.drop(train_set.index)\n",
    "\n",
    "    print('Train set size: {}'.format(train_set.shape[0]))\n",
    "    print('Test set size: {}'.format(test_set.shape[0]))\n",
    "    \n",
    "    return (train_set, test_set)"
   ]
  },
  {
   "cell_type": "code",
   "execution_count": null,
   "metadata": {},
   "outputs": [],
   "source": [
    "train_set, test_set = train_test_split(selected_wine_data, test_size=0.7)\n",
    "X_train = train_set.loc[:, ['volatile acidity', 'alcohol']]\n",
    "Y_train = train_set['goodness']\n",
    "\n",
    "X_test = test_set.loc[:, ['volatile acidity', 'alcohol']]\n",
    "Y_test = test_set['goodness']"
   ]
  },
  {
   "cell_type": "code",
   "execution_count": null,
   "metadata": {
    "scrolled": true
   },
   "outputs": [],
   "source": [
    "# testing our best model on test_set\n",
    "\n",
    "ad.evaluate_accuracy(X_test.values, Y_test)"
   ]
  },
  {
   "cell_type": "markdown",
   "metadata": {},
   "source": [
    "### b) Write a function that generates a k-fold cross-validation dataset from the red wine data"
   ]
  },
  {
   "cell_type": "code",
   "execution_count": null,
   "metadata": {},
   "outputs": [],
   "source": [
    "def k_fold_split(data, k, shuffle=True):\n",
    "    folds = []\n",
    "    \n",
    "    if shuffle:\n",
    "        data = data.sample(frac=1).reset_index(drop=True)\n",
    "    \n",
    "    for i in range(k):\n",
    "        fold_size = data.shape[0] // k + 1 if i < data.shape[0] % k else data.shape[0] // k\n",
    "        test_data = data.iloc[i * fold_size: (i + 1) * fold_size, :]\n",
    "        train_data = data.iloc[data.index.difference(test_data.index), :]\n",
    "        folds.append((train_data, test_data))\n",
    "    \n",
    "    return folds"
   ]
  },
  {
   "cell_type": "code",
   "execution_count": null,
   "metadata": {},
   "outputs": [],
   "source": [
    "num_folds = 9\n",
    "folds = k_fold_split(selected_wine_data, 9)\n",
    "\n",
    "print('train, val lengths for {} folds: {}'.format(\n",
    "    num_folds, [(len(train), len(val)) for train, val in folds]))"
   ]
  },
  {
   "cell_type": "code",
   "execution_count": null,
   "metadata": {},
   "outputs": [],
   "source": [
    "def visualize_folds(folds, features):\n",
    "    fig, axes = plt.subplots(ncols=len(folds), figsize=(13,5))\n",
    "    \n",
    "    for i, fold in enumerate(folds):\n",
    "        if i != 0:\n",
    "            axes[i].yaxis.set_visible(False)\n",
    "        axes[i].scatter(fold[0].loc[:, features[0]], fold[0].loc[:, features[1]],\n",
    "                    c=['g'], label='training data')\n",
    "        axes[i].scatter(fold[1].loc[:, features[0]], fold[1].loc[:, features[1]],\n",
    "                        c=['r'], label='test data')\n",
    "        \n",
    "        axes[i].set_xlabel(features[0])\n",
    "        axes[i].set_ylabel(features[1])\n",
    "    \n",
    "    axes[len(folds) - 1].legend(bbox_to_anchor=(1.05, 1), loc=2)\n",
    "    \n",
    "    return fig"
   ]
  },
  {
   "cell_type": "code",
   "execution_count": null,
   "metadata": {},
   "outputs": [],
   "source": [
    "fig = visualize_folds(folds, ['alcohol', 'volatile acidity'])\n",
    "plt.show(fig)"
   ]
  },
  {
   "cell_type": "markdown",
   "metadata": {},
   "source": [
    "### c) ADALINE evaluation via k-fold cross-validation"
   ]
  },
  {
   "cell_type": "code",
   "execution_count": null,
   "metadata": {},
   "outputs": [],
   "source": [
    "def cross_validate_adaline(folds, features, lr=0.05, epochs=500, mode='batch', verbose=False):\n",
    "    sum_accuracy = 0\n",
    "\n",
    "    for i, fold in enumerate(folds):\n",
    "        X_train = fold[0][features]\n",
    "        Y_train = fold[0]['goodness']\n",
    "        \n",
    "        ad = Adaline(lr=lr)\n",
    "        train_stats = ad.train(X_train.values, Y_train, epochs, mode, verbose)\n",
    "        \n",
    "        X_test = fold[1][features]\n",
    "        Y_test = fold[1]['goodness']\n",
    "        accuracy = ad.evaluate_accuracy(X_test.values, Y_test)\n",
    "        sum_accuracy += accuracy\n",
    "    \n",
    "    print('=================================')\n",
    "    print('Mean model accuracy: {0:.3f}'.format(sum_accuracy / len(folds)))\n",
    "    print('=================================')"
   ]
  },
  {
   "cell_type": "code",
   "execution_count": null,
   "metadata": {},
   "outputs": [],
   "source": [
    "# Small learning rate and few epochs --> lower accuracy\n",
    "\n",
    "cross_validate_adaline(folds, ['alcohol', 'volatile acidity'], lr=0.0005,\n",
    "                       epochs=100, mode='batch', verbose=False)"
   ]
  },
  {
   "cell_type": "code",
   "execution_count": null,
   "metadata": {},
   "outputs": [],
   "source": [
    "# Good learning rate allows to train quickly and gives good accuracy\n",
    "\n",
    "cross_validate_adaline(folds, ['alcohol', 'volatile acidity'], lr=0.05,\n",
    "                       epochs=10, mode='batch', verbose=False)"
   ]
  },
  {
   "cell_type": "code",
   "execution_count": null,
   "metadata": {},
   "outputs": [],
   "source": [
    "# And training longer doesn't really help much\n",
    "\n",
    "cross_validate_adaline(folds, ['alcohol', 'volatile acidity'], lr=0.05,\n",
    "                       epochs=200, mode='batch', verbose=False)"
   ]
  },
  {
   "cell_type": "code",
   "execution_count": null,
   "metadata": {},
   "outputs": [],
   "source": [
    "# If learning rate is too big, we will overshoot the point of minimum\n",
    "# and get lower accuracy\n",
    "\n",
    "cross_validate_adaline(folds, ['alcohol', 'volatile acidity'], lr=0.5,\n",
    "                       epochs=200, mode='batch', verbose=False)"
   ]
  },
  {
   "cell_type": "code",
   "execution_count": null,
   "metadata": {},
   "outputs": [],
   "source": [
    "# Optimal learning rate desn't change things too much\n",
    "\n",
    "cross_validate_adaline(folds, ['alcohol', 'volatile acidity'], lr=0.096,\n",
    "                       epochs=200, mode='batch', verbose=False)"
   ]
  },
  {
   "cell_type": "markdown",
   "metadata": {},
   "source": [
    "---\n",
    "## V.5 adventures in the Nth dimension"
   ]
  },
  {
   "cell_type": "markdown",
   "metadata": {},
   "source": [
    "### a) Training on more chemical factors"
   ]
  },
  {
   "cell_type": "code",
   "execution_count": null,
   "metadata": {},
   "outputs": [],
   "source": [
    "features = ['pH', 'alcohol', 'sulphates', 'fixed acidity', 'volatile acidity', 'goodness', 'quality']\n",
    "selected_wine_data = wine_data[(wine_data['quality'] > 6) | (wine_data['quality'] < 5)][features]\n",
    "selected_wine_data = selected_wine_data.reset_index(drop=True)\n",
    "\n",
    "norm_features = ['pH', 'alcohol', 'sulphates', 'fixed acidity', 'volatile acidity']\n",
    "for feature in norm_features:\n",
    "    selected_wine_data[feature] = normalize_series(selected_wine_data[feature])\n",
    "\n",
    "print(selected_wine_data[:10])"
   ]
  },
  {
   "cell_type": "code",
   "execution_count": null,
   "metadata": {},
   "outputs": [],
   "source": [
    "folds = k_fold_split(selected_wine_data, 9)"
   ]
  },
  {
   "cell_type": "code",
   "execution_count": null,
   "metadata": {},
   "outputs": [],
   "source": [
    "# adding 'pH' to taining features\n",
    "\n",
    "cross_validate_adaline(folds, ['alcohol', 'volatile acidity', 'pH'], lr=0.05,\n",
    "                       epochs=200, mode='batch', verbose=False)"
   ]
  },
  {
   "cell_type": "code",
   "execution_count": null,
   "metadata": {},
   "outputs": [],
   "source": [
    "# 'pH' -> 'sulphates'\n",
    "\n",
    "cross_validate_adaline(folds, ['alcohol', 'volatile acidity', 'sulphates'], lr=0.05,\n",
    "                       epochs=200, mode='batch', verbose=False)"
   ]
  },
  {
   "cell_type": "code",
   "execution_count": null,
   "metadata": {},
   "outputs": [],
   "source": [
    "# + 'fixed acidity'\n",
    "\n",
    "cross_validate_adaline(folds, ['alcohol', 'volatile acidity', 'fixed acidity', 'sulphates'], lr=0.05,\n",
    "                       epochs=200, mode='batch', verbose=False)"
   ]
  },
  {
   "cell_type": "code",
   "execution_count": null,
   "metadata": {},
   "outputs": [],
   "source": [
    "# 'fixed acidity' -> 'pH'\n",
    "\n",
    "cross_validate_adaline(folds, ['alcohol', 'volatile acidity', 'pH', 'sulphates'], lr=0.05,\n",
    "                       epochs=200, mode='batch', verbose=False)"
   ]
  },
  {
   "cell_type": "markdown",
   "metadata": {},
   "source": [
    "### b) What does the decision boundary for N factors look like?\n",
    "Decision boundary for N factors is (N - 1) dimentional hyperplane "
   ]
  },
  {
   "cell_type": "markdown",
   "metadata": {},
   "source": [
    "---\n",
    "# V.6 Marvin's rebuttal\n",
    "\n",
    "Find a way to successfully classify the Pan-Galactic Gargle Blaster dataset.\n",
    "Show that your perceptron or ADALINE successfully classifies the Pan-Galactic Gargle Blaster data set by plotting the decision boundary and also show ‘good’ and ‘bad’ Gargle Blaster data points."
   ]
  },
  {
   "cell_type": "code",
   "execution_count": null,
   "metadata": {},
   "outputs": [],
   "source": [
    "dataset_path = './resources/Pan Galactic Gargle Blaster.csv'\n",
    "\n",
    "try:\n",
    "    gargle_blaster_data = pd.read_csv(dataset_path, sep=';')\n",
    "except FileNotFoundError:\n",
    "    print('[-] Set `dataset_path` with correct value')"
   ]
  },
  {
   "cell_type": "code",
   "execution_count": null,
   "metadata": {},
   "outputs": [],
   "source": [
    "# Take the gargle blaster as good, if it's quality > 5\n",
    "gargle_blaster_data = gargle_blaster_data.assign(goodness=pd.Series(gargle_blaster_data['quality'] > 5))\n",
    "\n",
    "# normalize feature series\n",
    "gargle_blaster_data['wonderflonium'] = normalize_series(gargle_blaster_data['wonderflonium'])\n",
    "gargle_blaster_data['fallian marsh gas'] = normalize_series(gargle_blaster_data['fallian marsh gas'])"
   ]
  },
  {
   "cell_type": "code",
   "execution_count": null,
   "metadata": {},
   "outputs": [],
   "source": [
    "fig = plot_scatter_matrix(gargle_blaster_data, 6, 5, True)\n",
    "plt.show(fig)"
   ]
  },
  {
   "cell_type": "markdown",
   "metadata": {},
   "source": [
    "Data is not linearly separable, so neither Perceptron, nor ADALINE will not learn from it.\n",
    "\n",
    "The trick is to transform data points to polar coordinate system, where they will be perfectly separable with a line."
   ]
  },
  {
   "cell_type": "code",
   "execution_count": null,
   "metadata": {},
   "outputs": [],
   "source": [
    "x1 = gargle_blaster_data.loc[:, 'wonderflonium']\n",
    "x2 = gargle_blaster_data.loc[:, 'fallian marsh gas']\n",
    "\n",
    "# compute r and phi, needed for polar coordinates and add them to DataFrame\n",
    "gargle_blaster_data = gargle_blaster_data.assign(r=pd.Series(x1 * x1 + x2 * x2).pow(1./2))\n",
    "gargle_blaster_data = gargle_blaster_data.assign(\n",
    "    phi=pd.Series([math.atan2(x, y) for (x, y) in zip(x1, x2)]))\n",
    "\n",
    "print(gargle_blaster_data.iloc[:10])\n",
    "print('...')"
   ]
  },
  {
   "cell_type": "code",
   "execution_count": null,
   "metadata": {},
   "outputs": [],
   "source": [
    "train_set, test_set = train_test_split(gargle_blaster_data, test_size=0.7)"
   ]
  },
  {
   "cell_type": "code",
   "execution_count": null,
   "metadata": {},
   "outputs": [],
   "source": [
    "X_train = train_set[['r', 'phi']]\n",
    "Y_train = train_set['goodness'].values\n",
    "\n",
    "X_test = test_set[['r', 'phi']]\n",
    "Y_test = test_set['goodness'].values"
   ]
  },
  {
   "cell_type": "code",
   "execution_count": null,
   "metadata": {
    "scrolled": true
   },
   "outputs": [],
   "source": [
    "ad = Adaline(lr=0.005)\n",
    "\n",
    "train_stats = ad.train(X_train.values, Y_train, 70, 'batch', verbose=True)"
   ]
  },
  {
   "cell_type": "code",
   "execution_count": null,
   "metadata": {},
   "outputs": [],
   "source": [
    "ad.evaluate_accuracy(X_test.values, Y_test)"
   ]
  },
  {
   "cell_type": "code",
   "execution_count": null,
   "metadata": {},
   "outputs": [],
   "source": [
    "fig = plot_performance(train_stats, train_set, ['phi', 'r'], 6, 5, -1, False)\n",
    "plt.show(fig)"
   ]
  },
  {
   "cell_type": "code",
   "execution_count": null,
   "metadata": {},
   "outputs": [],
   "source": []
  }
 ],
 "metadata": {
  "kernelspec": {
   "display_name": "Python 3",
   "language": "python",
   "name": "python3"
  },
  "language_info": {
   "codemirror_mode": {
    "name": "ipython",
    "version": 3
   },
   "file_extension": ".py",
   "mimetype": "text/x-python",
   "name": "python",
   "nbconvert_exporter": "python",
   "pygments_lexer": "ipython3",
   "version": "3.6.2"
  }
 },
 "nbformat": 4,
 "nbformat_minor": 2
}
