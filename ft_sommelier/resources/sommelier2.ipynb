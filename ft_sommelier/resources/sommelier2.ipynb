{
 "cells": [
  {
   "cell_type": "markdown",
   "metadata": {},
   "source": [
    "```Test mardown```"
   ]
  },
  {
   "cell_type": "code",
   "execution_count": null,
   "metadata": {},
   "outputs": [],
   "source": [
    "import matplotlib.pyplot as plt\n",
    "\n",
    "def plot_scatter_matrix(wine_data, good_threshold, bad_threshold, save_plot=False):\n",
    "    \n",
    "    \n",
    "    \n",
    "fig = plt.figure()  # an empty figure with no axes\n",
    "fig.suptitle('No axes on this figure')  # Add a title so we know which it is\n",
    "\n",
    "# fig, ax_lst = plt.subplots(2, 2)  # a figure with a 2x2 grid of Axes\n"
   ]
  },
  {
   "cell_type": "code",
   "execution_count": 13,
   "metadata": {},
   "outputs": [
    {
     "ename": "NameError",
     "evalue": "name 'x' is not defined",
     "output_type": "error",
     "traceback": [
      "\u001b[0;31m---------------------------------------------------------------------------\u001b[0m",
      "\u001b[0;31mNameError\u001b[0m                                 Traceback (most recent call last)",
      "\u001b[0;32m<ipython-input-13-c8700b89e3c4>\u001b[0m in \u001b[0;36m<module>\u001b[0;34m\u001b[0m\n\u001b[0;32m----> 1\u001b[0;31m \u001b[0mplt\u001b[0m\u001b[0;34m.\u001b[0m\u001b[0mplot\u001b[0m\u001b[0;34m(\u001b[0m\u001b[0mx\u001b[0m\u001b[0;34m,\u001b[0m \u001b[0mx\u001b[0m\u001b[0;34m,\u001b[0m \u001b[0mlabel\u001b[0m\u001b[0;34m=\u001b[0m\u001b[0;34m'linear'\u001b[0m\u001b[0;34m)\u001b[0m\u001b[0;34m\u001b[0m\u001b[0m\n\u001b[0m\u001b[1;32m      2\u001b[0m \u001b[0mplt\u001b[0m\u001b[0;34m.\u001b[0m\u001b[0mplot\u001b[0m\u001b[0;34m(\u001b[0m\u001b[0mx\u001b[0m\u001b[0;34m,\u001b[0m \u001b[0mx\u001b[0m\u001b[0;34m**\u001b[0m\u001b[0;36m2\u001b[0m\u001b[0;34m,\u001b[0m \u001b[0mlabel\u001b[0m\u001b[0;34m=\u001b[0m\u001b[0;34m'quadratic'\u001b[0m\u001b[0;34m)\u001b[0m\u001b[0;34m\u001b[0m\u001b[0m\n\u001b[1;32m      3\u001b[0m \u001b[0mplt\u001b[0m\u001b[0;34m.\u001b[0m\u001b[0mplot\u001b[0m\u001b[0;34m(\u001b[0m\u001b[0mx\u001b[0m\u001b[0;34m,\u001b[0m \u001b[0mx\u001b[0m\u001b[0;34m**\u001b[0m\u001b[0;36m3\u001b[0m\u001b[0;34m,\u001b[0m \u001b[0mlabel\u001b[0m\u001b[0;34m=\u001b[0m\u001b[0;34m'cubic'\u001b[0m\u001b[0;34m)\u001b[0m\u001b[0;34m\u001b[0m\u001b[0m\n\u001b[1;32m      4\u001b[0m \u001b[0;34m\u001b[0m\u001b[0m\n\u001b[1;32m      5\u001b[0m \u001b[0mplt\u001b[0m\u001b[0;34m.\u001b[0m\u001b[0mxlabel\u001b[0m\u001b[0;34m(\u001b[0m\u001b[0;34m'x label'\u001b[0m\u001b[0;34m)\u001b[0m\u001b[0;34m\u001b[0m\u001b[0m\n",
      "\u001b[0;31mNameError\u001b[0m: name 'x' is not defined"
     ]
    }
   ],
   "source": [
    "\n",
    "plt.plot(x, x, label='linear')\n",
    "plt.plot(x, x**2, label='quadratic')\n",
    "plt.plot(x, x**3, label='cubic')\n",
    "\n",
    "plt.xlabel('x label')\n",
    "plt.ylabel('y label')\n",
    "\n",
    "plt.title(\"Simple Plot\")\n",
    "\n",
    "plt.legend()\n",
    "\n",
    "plt.show()"
   ]
  },
  {
   "cell_type": "code",
   "execution_count": 6,
   "metadata": {},
   "outputs": [
    {
     "name": "stdout",
     "output_type": "stream",
     "text": [
      "sommelier2.ipynb\n",
      "scatter_matrix.png\n",
      "winequality-red.csv\n",
      "sommelier2-checkpoint.ipynb\n"
     ]
    }
   ],
   "source": [
    "import os\n",
    "\n",
    "for root, dirs, files in os.walk(\"./\"):\n",
    "    for filename in files:\n",
    "        print(filename)"
   ]
  },
  {
   "cell_type": "code",
   "execution_count": null,
   "metadata": {},
   "outputs": [
    {
     "name": "stdout",
     "output_type": "stream",
     "text": [
      "0\n",
      "1\n",
      "2\n",
      "3\n",
      "4\n",
      "5\n",
      "6\n",
      "7\n",
      "8\n"
     ]
    }
   ],
   "source": [
    "import itertools\n",
    "import matplotlib.pyplot as plt\n",
    "import csv\n",
    "import copy\n",
    "\n",
    "def main():\n",
    "    fig = 0\n",
    "    rownum = 0\n",
    "    data = []\n",
    "    with open('winequality-red.csv') as csv_file:\n",
    "        csv_reader = csv.reader(csv_file, delimiter=';')\n",
    "\n",
    "        for row in csv_reader:\n",
    "            data.append (row)\n",
    "            rownum += 1\n",
    "    \n",
    "    scatterplot_matrix(data, 3, 8, True)\n",
    "\n",
    "\n",
    "def scatterplot_matrix(data, good_threshold, bad_threshold, save_plot=False):\n",
    "\n",
    "    names = data[0]\n",
    "    del names[-1]\n",
    "\n",
    "    numvars = len(names)\n",
    "    fig, axes = plt.subplots(nrows=numvars, ncols=numvars, figsize=(numvars * 1.5,numvars * 1.5))\n",
    "    fig.subplots_adjust(hspace=0, wspace=0)\n",
    "\n",
    "    for ax in axes.flat:\n",
    "        # Hide all ticks and labels\n",
    "        ax.xaxis.set_visible(False)\n",
    "        ax.yaxis.set_visible(False)\n",
    "\n",
    "        # Set up ticks only on one side for the \"edge\" subplots...\n",
    "#         if ax.is_first_col():\n",
    "#             ax.yaxis.set_ticks_position('left')\n",
    "#         if ax.is_last_col():\n",
    "#             ax.yaxis.set_ticks_position('right')\n",
    "#         if ax.is_first_row():\n",
    "#             ax.xaxis.set_ticks_position('top')\n",
    "#         if ax.is_last_row():\n",
    "#             ax.xaxis.set_ticks_position('bottom')\n",
    "\n",
    "    for i, label in enumerate(names):\n",
    "        j = copy.deepcopy(i)\n",
    "        j -= 1\n",
    "        axes[i,i].annotate(label, (0.5, 0.5), xycoords='data',\n",
    "            ha='center', va='center')\n",
    "        print(i)\n",
    "        while j >= 0:\n",
    "            for d in data[1:]:\n",
    "                color = '';\n",
    "                if (float(d[-1]) > good_threshold):\n",
    "                    color = 'green'\n",
    "                elif (float(d[-1]) < bad_threshold):\n",
    "                    color = 'red'\n",
    "                else:\n",
    "                    continue\n",
    "                axes[j, i].plot(float(d[i]), float(d[j]), linestyle='none', marker='.', markersize=2, color=color, mfc='none')\n",
    "                axes[i, j].plot(float(d[j]), float(d[i]), linestyle='none', marker='.', markersize=2, color=color, mfc='none')\n",
    "            j -= 1\n",
    "\n",
    "    # Label the diagonal subplots...\n",
    "#     for i, label in enumerate(names):\n",
    "#         axes[i,i].annotate(label, (0.5, 0.5), xycoords='data',\n",
    "#                 ha='center', va='center')\n",
    "    \n",
    "    if (save_plot):\n",
    "        plt.savefig(\"scatter_matrix.png\")\n",
    "    \n",
    "    plt.show()\n",
    "\n",
    "main()"
   ]
  }
 ],
 "metadata": {
  "kernelspec": {
   "display_name": "Python 3",
   "language": "python",
   "name": "python3"
  },
  "language_info": {
   "codemirror_mode": {
    "name": "ipython",
    "version": 3
   },
   "file_extension": ".py",
   "mimetype": "text/x-python",
   "name": "python",
   "nbconvert_exporter": "python",
   "pygments_lexer": "ipython3",
   "version": "3.6.2"
  }
 },
 "nbformat": 4,
 "nbformat_minor": 2
}
