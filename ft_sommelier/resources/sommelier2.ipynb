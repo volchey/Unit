{
 "cells": [
  {
   "cell_type": "markdown",
   "metadata": {},
   "source": [
    "```Test mardown```"
   ]
  },
  {
   "cell_type": "code",
   "execution_count": 27,
   "metadata": {},
   "outputs": [],
   "source": [
    "import matplotlib.pyplot as plt\n",
    "import pandas as pd\n",
    "from random import random"
   ]
  },
  {
   "cell_type": "code",
   "execution_count": 3,
   "metadata": {},
   "outputs": [],
   "source": [
    "df = pd.read_csv('winequality-red.csv',';')"
   ]
  },
  {
   "cell_type": "code",
   "execution_count": 52,
   "metadata": {},
   "outputs": [],
   "source": [
    "import matplotlib.pyplot as plt\n",
    "\n",
    "def scatterplot_matrix(data, good_threshold, bad_threshold, save_plot=False):\n",
    "\n",
    "    numvars, numdata = data.shape\n",
    "    fig, axes = plt.subplots(nrows=numdata, ncols=numdata, figsize=(100, 100))\n",
    "    fig.subplots_adjust(hspace=0, wspace=0)\n",
    "\n",
    "    for ax in axes.flat:\n",
    "        # Hide all ticks and labels\n",
    "        ax.xaxis.set_visible(False)\n",
    "        ax.yaxis.set_visible(False)\n",
    "\n",
    "#     data[data[\"quality\"] >= bad_threshold and data[\"quality\"] <= good_threshold]\n",
    "    colors = ['green' if k > good_threshold else 'red' if k < bad_threshold else 'white' for k in data[\"quality\"]]\n",
    "    numdata -= 1 # quality\n",
    "    for i in range(numdata):\n",
    "        axes[i,i].text(0.5, 0.5, data.columns[i], horizontalalignment='center',\n",
    "                       verticalalignment='center', fontsize=62)\n",
    "        print(str(i * 10) + '%')\n",
    "        j = 0\n",
    "        for j in range(numdata):\n",
    "            if (j == i):\n",
    "                continue   \n",
    "            axes[i, j].scatter(data[data.columns[j]], data[data.columns[i]], c=colors, s=200)\n",
    "    plt.tight_layout()\n",
    "    if (save_plot == True):\n",
    "        plt.savefig(\"scatter_matrix.png\")\n",
    "    \n",
    "    plt.show()\n",
    "#     fig"
   ]
  },
  {
   "cell_type": "code",
   "execution_count": 50,
   "metadata": {
    "scrolled": true
   },
   "outputs": [
    {
     "ename": "NameError",
     "evalue": "name 'scatterplot_matrix' is not defined",
     "output_type": "error",
     "traceback": [
      "\u001b[0;31m---------------------------------------------------------------------------\u001b[0m",
      "\u001b[0;31mNameError\u001b[0m                                 Traceback (most recent call last)",
      "\u001b[0;32m<timed exec>\u001b[0m in \u001b[0;36m<module>\u001b[0;34m\u001b[0m\n",
      "\u001b[0;31mNameError\u001b[0m: name 'scatterplot_matrix' is not defined"
     ]
    }
   ],
   "source": [
    "%%time\n",
    "# print(df.iloc[1])\n",
    "scatterplot_matrix(df, 6, 5)"
   ]
  },
  {
   "cell_type": "code",
   "execution_count": 89,
   "metadata": {},
   "outputs": [],
   "source": [
    "class Perceptron(object):\n",
    "    \n",
    "    def __init__(self, data):\n",
    "        self.data    = data\n",
    "        self.bias    = random()\n",
    "        self.weights = [random() for i in range(data.shape[1] - 1)]\n",
    "        \n",
    "    def predict(self, input_row):\n",
    "        summ = self.bias\n",
    "        for i, value in enumerate(input_row):\n",
    "            summ += value * self.weights[i]\n",
    "        return 1.0 if summ > 0.0 else 0.0\n",
    "\n",
    "    def train_epoch(self):\n",
    "        epoch_error = 0.0\n",
    "        for row in self.data:\n",
    "#             print(row)\n",
    "            true_answer = row[-1]\n",
    "            prediction = self.predict(row[:-1])\n",
    "            error = true_answer - prediction\n",
    "            epoch_error += error**2\n",
    "            self.bias += self.learning_rate * error\n",
    "            for i, value in enumerate(row[:-1]):\n",
    "                self.weights[i] += self.learning_rate * error * value\n",
    "        return epoch_error\n",
    "\n",
    "    def train_data(self, a_epochs, learning_rate, verbose=False):\n",
    "        self.learning_rate = learning_rate\n",
    "        current_epoch = 0\n",
    "        performance = []\n",
    "#         print(self.weights)\n",
    "        \n",
    "        while True:\n",
    "            epoch_error = self.train_epoch()\n",
    "            \n",
    "            tuple = (current_epoch, epoch_error, self.weights, self.bias)\n",
    "            performance.append(tuple)\n",
    "            if (verbose):\n",
    "                print(tuple)\n",
    "            \n",
    "            if (a_epochs == 0):\n",
    "                if epoch_error == 0:\n",
    "                    break\n",
    "            else:\n",
    "                if current_epoch >= a_epochs:\n",
    "                    break\n",
    "            current_epoch += 1\n",
    "               \n",
    "        return performance\n",
    "        "
   ]
  },
  {
   "cell_type": "code",
   "execution_count": 96,
   "metadata": {},
   "outputs": [
    {
     "name": "stdout",
     "output_type": "stream",
     "text": [
      "      volatile acidity  alcohol  goodness\n",
      "267              0.350    12.80         1\n",
      "278              0.320    12.60         1\n",
      "390              0.850    12.90         1\n",
      "440              0.310     9.80         1\n",
      "455              0.620    13.40         1\n",
      "459              0.580     9.00         0\n",
      "481              0.300    11.70         1\n",
      "495              0.350    11.00         1\n",
      "498              0.350    11.00         1\n",
      "517              0.610     8.40         0\n",
      "588              0.420    14.00         1\n",
      "690              1.185    10.70         0\n",
      "828              0.570    12.70         1\n",
      "832              0.440     9.90         0\n",
      "899              1.020    11.00         0\n",
      "1061             0.400    12.50         1\n",
      "1090             0.260    11.80         1\n",
      "1120             0.540    13.10         1\n",
      "1202             0.420    11.70         1\n",
      "1269             0.490    14.00         1\n",
      "1299             1.580    10.90         0\n",
      "1374             0.815     9.80         0\n",
      "1403             0.330    10.00         1\n",
      "1449             0.380    11.30         1\n",
      "1469             0.980     9.70         0\n",
      "1478             0.875    10.20         0\n",
      "1505             0.760     9.95         0\n",
      "1549             0.360    11.40         1\n"
     ]
    }
   ],
   "source": [
    "df = df.assign(goodness = pd.Series(df['quality'] > 5, dtype=int))\n",
    "df = df[(df['quality'] > 7) | (df['quality'] < 4)]\n",
    "selected_data = df.loc[:, ['volatile acidity', 'alcohol', 'goodness']]\n",
    "# selected_data = selected_data.reset_index(drop=True)\n",
    "# selected_wine_data = wine_data[(wine_data['quality'] > 7) | (wine_data['quality'] < 4)][features]\n",
    "print(selected_data)\n",
    "# selected_data.shape"
   ]
  },
  {
   "cell_type": "code",
   "execution_count": 94,
   "metadata": {},
   "outputs": [],
   "source": [
    "def plot_errors(ax, performance):\n",
    "    epochs = [i[0] for i in performance]\n",
    "    errors = [i[1] for i in performance]\n",
    "    ax.plot(epochs, errors)\n",
    "#     ax.set_xlim(xmax=len(performance) + 1000)\n",
    "    ax.set_ylim(ymin=-1)\n",
    "    ax.set_title('Errors as a function of epochs')\n",
    "    ax.set_xlabel('epoch')\n",
    "    ax.set_ylabel('classification errors')\n",
    "    \n",
    "def plot_performance(performance, wine_data, good_thresh, bad_thresh, epoch=-1, save_plot=False):\n",
    "    \"\"\"\n",
    "    Plot the performance of perceptron or adaline.\n",
    "    This function will produce a two plot figure:\n",
    "    1) Number of classification errors as a function of epochs\n",
    "    2) Decision boundary for two factors\n",
    "    \"\"\"\n",
    "    fig, axes = plt.subplots(nrows=1, ncols=2, figsize=(15, 5))\n",
    "    plot_errors(axes[0], performance)\n",
    "    plt.show()"
   ]
  },
  {
   "cell_type": "code",
   "execution_count": 97,
   "metadata": {},
   "outputs": [
    {
     "name": "stdout",
     "output_type": "stream",
     "text": [
      "(4534, 0.0, [-248.83632514437176, 34.13889424553335], -228.70229186572996)\n",
      "0.0\n",
      "0.0\n",
      "0.0\n",
      "0.0\n",
      "0.0\n"
     ]
    },
    {
     "data": {
      "image/png": "[encoded data removed]",
      "text/plain": [
       "<Figure size 1080x360 with 2 Axes>"
      ]
     },
     "metadata": {
      "needs_background": "light"
     },
     "output_type": "display_data"
    }
   ],
   "source": [
    "new_percetpron = Perceptron(selected_data.values)\n",
    "\n",
    "performance = new_percetpron.train_data(0, 0.5, False)\n",
    "\n",
    "print(performance[-1])\n",
    "\n",
    "print(new_percetpron.predict([12.80, 3.35])) #1\n",
    "print(new_percetpron.predict([10.20, 3.40])) #0\n",
    "print(new_percetpron.predict([11.80, 2.98])) #1\n",
    "print(new_percetpron.predict([14.00, 3.72])) #1\n",
    "print(new_percetpron.predict([9.80, 3.32])) #0\n",
    "plot_performance(performance, selected_data, 4, 7)"
   ]
  }
 ],
 "metadata": {
  "kernelspec": {
   "display_name": "Python 3",
   "language": "python",
   "name": "python3"
  },
  "language_info": {
   "codemirror_mode": {
    "name": "ipython",
    "version": 3
   },
   "file_extension": ".py",
   "mimetype": "text/x-python",
   "name": "python",
   "nbconvert_exporter": "python",
   "pygments_lexer": "ipython3",
   "version": "3.6.2"
  }
 },
 "nbformat": 4,
 "nbformat_minor": 2
}
